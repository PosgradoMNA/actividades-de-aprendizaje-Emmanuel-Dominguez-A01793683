{
  "nbformat": 4,
  "nbformat_minor": 0,
  "metadata": {
    "colab": {
      "provenance": [],
      "collapsed_sections": [],
      "authorship_tag": "ABX9TyPGBnQ501058YBH8nwkpJFX",
      "include_colab_link": true
    },
    "kernelspec": {
      "name": "python3",
      "display_name": "Python 3"
    },
    "language_info": {
      "name": "python"
    }
  },
  "cells": [
    {
      "cell_type": "markdown",
      "metadata": {
        "id": "view-in-github",
        "colab_type": "text"
      },
      "source": [
        "<a href=\"https://colab.research.google.com/github/PosgradoMNA/actividades-de-aprendizaje-Emmanuel-Dominguez-A01793683/blob/main/Data_Analysis_with_Python_M%C3%B3dulo_4.ipynb\" target=\"_parent\"><img src=\"https://colab.research.google.com/assets/colab-badge.svg\" alt=\"Open In Colab\"/></a>"
      ]
    },
    {
      "cell_type": "code",
      "execution_count": 58,
      "metadata": {
        "id": "eePZ98zlLE0n"
      },
      "outputs": [],
      "source": [
        "import pandas as pd\n",
        "import numpy as np\n",
        "import matplotlib.pyplot as plt"
      ]
    },
    {
      "cell_type": "code",
      "source": [
        "path = 'https://cf-courses-data.s3.us.cloud-object-storage.appdomain.cloud/IBMDeveloperSkillsNetwork-DA0101EN-SkillsNetwork/labs/Data%20files/automobileEDA.csv'"
      ],
      "metadata": {
        "id": "_AsffEP2LI15"
      },
      "execution_count": 59,
      "outputs": []
    },
    {
      "cell_type": "code",
      "source": [
        "df = pd.read_csv(path)\n",
        "df.head()"
      ],
      "metadata": {
        "colab": {
          "base_uri": "https://localhost:8080/",
          "height": 386
        },
        "id": "U9ViqEgJLTOM",
        "outputId": "d3fa1efa-5591-463f-ebe8-684e4201466d"
      },
      "execution_count": 60,
      "outputs": [
        {
          "output_type": "execute_result",
          "data": {
            "text/plain": [
              "   symboling  normalized-losses         make aspiration num-of-doors  \\\n",
              "0          3                122  alfa-romero        std          two   \n",
              "1          3                122  alfa-romero        std          two   \n",
              "2          1                122  alfa-romero        std          two   \n",
              "3          2                164         audi        std         four   \n",
              "4          2                164         audi        std         four   \n",
              "\n",
              "    body-style drive-wheels engine-location  wheel-base    length  ...  \\\n",
              "0  convertible          rwd           front        88.6  0.811148  ...   \n",
              "1  convertible          rwd           front        88.6  0.811148  ...   \n",
              "2    hatchback          rwd           front        94.5  0.822681  ...   \n",
              "3        sedan          fwd           front        99.8  0.848630  ...   \n",
              "4        sedan          4wd           front        99.4  0.848630  ...   \n",
              "\n",
              "   compression-ratio  horsepower  peak-rpm city-mpg highway-mpg    price  \\\n",
              "0                9.0       111.0    5000.0       21          27  13495.0   \n",
              "1                9.0       111.0    5000.0       21          27  16500.0   \n",
              "2                9.0       154.0    5000.0       19          26  16500.0   \n",
              "3               10.0       102.0    5500.0       24          30  13950.0   \n",
              "4                8.0       115.0    5500.0       18          22  17450.0   \n",
              "\n",
              "  city-L/100km  horsepower-binned  diesel  gas  \n",
              "0    11.190476             Medium       0    1  \n",
              "1    11.190476             Medium       0    1  \n",
              "2    12.368421             Medium       0    1  \n",
              "3     9.791667             Medium       0    1  \n",
              "4    13.055556             Medium       0    1  \n",
              "\n",
              "[5 rows x 29 columns]"
            ],
            "text/html": [
              "\n",
              "  <div id=\"df-e8e6c319-1b8d-4011-950b-d3486fc1e772\">\n",
              "    <div class=\"colab-df-container\">\n",
              "      <div>\n",
              "<style scoped>\n",
              "    .dataframe tbody tr th:only-of-type {\n",
              "        vertical-align: middle;\n",
              "    }\n",
              "\n",
              "    .dataframe tbody tr th {\n",
              "        vertical-align: top;\n",
              "    }\n",
              "\n",
              "    .dataframe thead th {\n",
              "        text-align: right;\n",
              "    }\n",
              "</style>\n",
              "<table border=\"1\" class=\"dataframe\">\n",
              "  <thead>\n",
              "    <tr style=\"text-align: right;\">\n",
              "      <th></th>\n",
              "      <th>symboling</th>\n",
              "      <th>normalized-losses</th>\n",
              "      <th>make</th>\n",
              "      <th>aspiration</th>\n",
              "      <th>num-of-doors</th>\n",
              "      <th>body-style</th>\n",
              "      <th>drive-wheels</th>\n",
              "      <th>engine-location</th>\n",
              "      <th>wheel-base</th>\n",
              "      <th>length</th>\n",
              "      <th>...</th>\n",
              "      <th>compression-ratio</th>\n",
              "      <th>horsepower</th>\n",
              "      <th>peak-rpm</th>\n",
              "      <th>city-mpg</th>\n",
              "      <th>highway-mpg</th>\n",
              "      <th>price</th>\n",
              "      <th>city-L/100km</th>\n",
              "      <th>horsepower-binned</th>\n",
              "      <th>diesel</th>\n",
              "      <th>gas</th>\n",
              "    </tr>\n",
              "  </thead>\n",
              "  <tbody>\n",
              "    <tr>\n",
              "      <th>0</th>\n",
              "      <td>3</td>\n",
              "      <td>122</td>\n",
              "      <td>alfa-romero</td>\n",
              "      <td>std</td>\n",
              "      <td>two</td>\n",
              "      <td>convertible</td>\n",
              "      <td>rwd</td>\n",
              "      <td>front</td>\n",
              "      <td>88.6</td>\n",
              "      <td>0.811148</td>\n",
              "      <td>...</td>\n",
              "      <td>9.0</td>\n",
              "      <td>111.0</td>\n",
              "      <td>5000.0</td>\n",
              "      <td>21</td>\n",
              "      <td>27</td>\n",
              "      <td>13495.0</td>\n",
              "      <td>11.190476</td>\n",
              "      <td>Medium</td>\n",
              "      <td>0</td>\n",
              "      <td>1</td>\n",
              "    </tr>\n",
              "    <tr>\n",
              "      <th>1</th>\n",
              "      <td>3</td>\n",
              "      <td>122</td>\n",
              "      <td>alfa-romero</td>\n",
              "      <td>std</td>\n",
              "      <td>two</td>\n",
              "      <td>convertible</td>\n",
              "      <td>rwd</td>\n",
              "      <td>front</td>\n",
              "      <td>88.6</td>\n",
              "      <td>0.811148</td>\n",
              "      <td>...</td>\n",
              "      <td>9.0</td>\n",
              "      <td>111.0</td>\n",
              "      <td>5000.0</td>\n",
              "      <td>21</td>\n",
              "      <td>27</td>\n",
              "      <td>16500.0</td>\n",
              "      <td>11.190476</td>\n",
              "      <td>Medium</td>\n",
              "      <td>0</td>\n",
              "      <td>1</td>\n",
              "    </tr>\n",
              "    <tr>\n",
              "      <th>2</th>\n",
              "      <td>1</td>\n",
              "      <td>122</td>\n",
              "      <td>alfa-romero</td>\n",
              "      <td>std</td>\n",
              "      <td>two</td>\n",
              "      <td>hatchback</td>\n",
              "      <td>rwd</td>\n",
              "      <td>front</td>\n",
              "      <td>94.5</td>\n",
              "      <td>0.822681</td>\n",
              "      <td>...</td>\n",
              "      <td>9.0</td>\n",
              "      <td>154.0</td>\n",
              "      <td>5000.0</td>\n",
              "      <td>19</td>\n",
              "      <td>26</td>\n",
              "      <td>16500.0</td>\n",
              "      <td>12.368421</td>\n",
              "      <td>Medium</td>\n",
              "      <td>0</td>\n",
              "      <td>1</td>\n",
              "    </tr>\n",
              "    <tr>\n",
              "      <th>3</th>\n",
              "      <td>2</td>\n",
              "      <td>164</td>\n",
              "      <td>audi</td>\n",
              "      <td>std</td>\n",
              "      <td>four</td>\n",
              "      <td>sedan</td>\n",
              "      <td>fwd</td>\n",
              "      <td>front</td>\n",
              "      <td>99.8</td>\n",
              "      <td>0.848630</td>\n",
              "      <td>...</td>\n",
              "      <td>10.0</td>\n",
              "      <td>102.0</td>\n",
              "      <td>5500.0</td>\n",
              "      <td>24</td>\n",
              "      <td>30</td>\n",
              "      <td>13950.0</td>\n",
              "      <td>9.791667</td>\n",
              "      <td>Medium</td>\n",
              "      <td>0</td>\n",
              "      <td>1</td>\n",
              "    </tr>\n",
              "    <tr>\n",
              "      <th>4</th>\n",
              "      <td>2</td>\n",
              "      <td>164</td>\n",
              "      <td>audi</td>\n",
              "      <td>std</td>\n",
              "      <td>four</td>\n",
              "      <td>sedan</td>\n",
              "      <td>4wd</td>\n",
              "      <td>front</td>\n",
              "      <td>99.4</td>\n",
              "      <td>0.848630</td>\n",
              "      <td>...</td>\n",
              "      <td>8.0</td>\n",
              "      <td>115.0</td>\n",
              "      <td>5500.0</td>\n",
              "      <td>18</td>\n",
              "      <td>22</td>\n",
              "      <td>17450.0</td>\n",
              "      <td>13.055556</td>\n",
              "      <td>Medium</td>\n",
              "      <td>0</td>\n",
              "      <td>1</td>\n",
              "    </tr>\n",
              "  </tbody>\n",
              "</table>\n",
              "<p>5 rows × 29 columns</p>\n",
              "</div>\n",
              "      <button class=\"colab-df-convert\" onclick=\"convertToInteractive('df-e8e6c319-1b8d-4011-950b-d3486fc1e772')\"\n",
              "              title=\"Convert this dataframe to an interactive table.\"\n",
              "              style=\"display:none;\">\n",
              "        \n",
              "  <svg xmlns=\"http://www.w3.org/2000/svg\" height=\"24px\"viewBox=\"0 0 24 24\"\n",
              "       width=\"24px\">\n",
              "    <path d=\"M0 0h24v24H0V0z\" fill=\"none\"/>\n",
              "    <path d=\"M18.56 5.44l.94 2.06.94-2.06 2.06-.94-2.06-.94-.94-2.06-.94 2.06-2.06.94zm-11 1L8.5 8.5l.94-2.06 2.06-.94-2.06-.94L8.5 2.5l-.94 2.06-2.06.94zm10 10l.94 2.06.94-2.06 2.06-.94-2.06-.94-.94-2.06-.94 2.06-2.06.94z\"/><path d=\"M17.41 7.96l-1.37-1.37c-.4-.4-.92-.59-1.43-.59-.52 0-1.04.2-1.43.59L10.3 9.45l-7.72 7.72c-.78.78-.78 2.05 0 2.83L4 21.41c.39.39.9.59 1.41.59.51 0 1.02-.2 1.41-.59l7.78-7.78 2.81-2.81c.8-.78.8-2.07 0-2.86zM5.41 20L4 18.59l7.72-7.72 1.47 1.35L5.41 20z\"/>\n",
              "  </svg>\n",
              "      </button>\n",
              "      \n",
              "  <style>\n",
              "    .colab-df-container {\n",
              "      display:flex;\n",
              "      flex-wrap:wrap;\n",
              "      gap: 12px;\n",
              "    }\n",
              "\n",
              "    .colab-df-convert {\n",
              "      background-color: #E8F0FE;\n",
              "      border: none;\n",
              "      border-radius: 50%;\n",
              "      cursor: pointer;\n",
              "      display: none;\n",
              "      fill: #1967D2;\n",
              "      height: 32px;\n",
              "      padding: 0 0 0 0;\n",
              "      width: 32px;\n",
              "    }\n",
              "\n",
              "    .colab-df-convert:hover {\n",
              "      background-color: #E2EBFA;\n",
              "      box-shadow: 0px 1px 2px rgba(60, 64, 67, 0.3), 0px 1px 3px 1px rgba(60, 64, 67, 0.15);\n",
              "      fill: #174EA6;\n",
              "    }\n",
              "\n",
              "    [theme=dark] .colab-df-convert {\n",
              "      background-color: #3B4455;\n",
              "      fill: #D2E3FC;\n",
              "    }\n",
              "\n",
              "    [theme=dark] .colab-df-convert:hover {\n",
              "      background-color: #434B5C;\n",
              "      box-shadow: 0px 1px 3px 1px rgba(0, 0, 0, 0.15);\n",
              "      filter: drop-shadow(0px 1px 2px rgba(0, 0, 0, 0.3));\n",
              "      fill: #FFFFFF;\n",
              "    }\n",
              "  </style>\n",
              "\n",
              "      <script>\n",
              "        const buttonEl =\n",
              "          document.querySelector('#df-e8e6c319-1b8d-4011-950b-d3486fc1e772 button.colab-df-convert');\n",
              "        buttonEl.style.display =\n",
              "          google.colab.kernel.accessAllowed ? 'block' : 'none';\n",
              "\n",
              "        async function convertToInteractive(key) {\n",
              "          const element = document.querySelector('#df-e8e6c319-1b8d-4011-950b-d3486fc1e772');\n",
              "          const dataTable =\n",
              "            await google.colab.kernel.invokeFunction('convertToInteractive',\n",
              "                                                     [key], {});\n",
              "          if (!dataTable) return;\n",
              "\n",
              "          const docLinkHtml = 'Like what you see? Visit the ' +\n",
              "            '<a target=\"_blank\" href=https://colab.research.google.com/notebooks/data_table.ipynb>data table notebook</a>'\n",
              "            + ' to learn more about interactive tables.';\n",
              "          element.innerHTML = '';\n",
              "          dataTable['output_type'] = 'display_data';\n",
              "          await google.colab.output.renderOutput(dataTable, element);\n",
              "          const docLink = document.createElement('div');\n",
              "          docLink.innerHTML = docLinkHtml;\n",
              "          element.appendChild(docLink);\n",
              "        }\n",
              "      </script>\n",
              "    </div>\n",
              "  </div>\n",
              "  "
            ]
          },
          "metadata": {},
          "execution_count": 60
        }
      ]
    },
    {
      "cell_type": "code",
      "source": [
        "from sklearn.linear_model import LinearRegression"
      ],
      "metadata": {
        "id": "pWgrccO7LZNB"
      },
      "execution_count": 61,
      "outputs": []
    },
    {
      "cell_type": "code",
      "source": [
        "#Create the linear regression object:\n",
        "lm = LinearRegression()\n",
        "lm"
      ],
      "metadata": {
        "colab": {
          "base_uri": "https://localhost:8080/",
          "height": 0
        },
        "id": "WgIRQyaFLmVC",
        "outputId": "f18759a7-7c55-4115-b687-837482dedb40"
      },
      "execution_count": 62,
      "outputs": [
        {
          "output_type": "execute_result",
          "data": {
            "text/plain": [
              "LinearRegression()"
            ]
          },
          "metadata": {},
          "execution_count": 62
        }
      ]
    },
    {
      "cell_type": "code",
      "source": [
        "#For this example, we want to look at how highway-mpg can help us predict car price. Using simple linear regression, we will create a linear function with \"highway-mpg\" as the predictor variable and the \"price\" as the response variable.\n",
        "\n",
        "X = df[['highway-mpg']]\n",
        "Y = df['price']"
      ],
      "metadata": {
        "id": "Is7UgBwMLqke"
      },
      "execution_count": 63,
      "outputs": []
    },
    {
      "cell_type": "code",
      "source": [
        "#Fit the linear model using highway-mpg:\n",
        "\n",
        "lm.fit(X,Y)"
      ],
      "metadata": {
        "colab": {
          "base_uri": "https://localhost:8080/",
          "height": 0
        },
        "id": "VBwfaucvLt2z",
        "outputId": "168cc3c5-d653-477f-cd65-1936d2f26e79"
      },
      "execution_count": 64,
      "outputs": [
        {
          "output_type": "execute_result",
          "data": {
            "text/plain": [
              "LinearRegression()"
            ]
          },
          "metadata": {},
          "execution_count": 64
        }
      ]
    },
    {
      "cell_type": "code",
      "source": [
        "#We can output a prediction:\n",
        "\n",
        "Yhat=lm.predict(X)\n",
        "Yhat[0:5]   "
      ],
      "metadata": {
        "colab": {
          "base_uri": "https://localhost:8080/",
          "height": 0
        },
        "id": "kt7UI6nzL3qP",
        "outputId": "a3b35038-f14c-4f68-bbff-cf1f3d4af944"
      },
      "execution_count": 65,
      "outputs": [
        {
          "output_type": "execute_result",
          "data": {
            "text/plain": [
              "array([16236.50464347, 16236.50464347, 17058.23802179, 13771.3045085 ,\n",
              "       20345.17153508])"
            ]
          },
          "metadata": {},
          "execution_count": 65
        }
      ]
    },
    {
      "cell_type": "code",
      "source": [
        "#What is the value of the intercept (a)?\n",
        "lm.intercept_"
      ],
      "metadata": {
        "colab": {
          "base_uri": "https://localhost:8080/",
          "height": 0
        },
        "id": "hU3GYbYFL_L4",
        "outputId": "90f7f138-000a-43db-eef8-f9f7bbc62c86"
      },
      "execution_count": 66,
      "outputs": [
        {
          "output_type": "execute_result",
          "data": {
            "text/plain": [
              "38423.3058581574"
            ]
          },
          "metadata": {},
          "execution_count": 66
        }
      ]
    },
    {
      "cell_type": "code",
      "source": [
        "#What is the value of the slope (b)?\n",
        "lm.coef_"
      ],
      "metadata": {
        "colab": {
          "base_uri": "https://localhost:8080/",
          "height": 0
        },
        "id": "Fk0BhBojMDru",
        "outputId": "84bedc31-654f-4866-93e2-64c5b0eef12a"
      },
      "execution_count": 67,
      "outputs": [
        {
          "output_type": "execute_result",
          "data": {
            "text/plain": [
              "array([-821.73337832])"
            ]
          },
          "metadata": {},
          "execution_count": 67
        }
      ]
    },
    {
      "cell_type": "markdown",
      "source": [
        "<h3>What is the final estimated linear model we get?</h3>\n",
        "\n",
        "\n",
        "$$\n",
        "Yhat = a + b  X\n",
        "$$\n",
        "\n",
        "Plugging in the actual values we get:\n",
        "\n",
        "<b>Price</b> = 38423.31 - 821.73 x <b>highway-mpg</b>"
      ],
      "metadata": {
        "id": "6hMRF8gCMiPC"
      }
    },
    {
      "cell_type": "markdown",
      "source": [
        "<div class=\"alert alert-danger alertdanger\" style=\"margin-top: 20px\">\n",
        "<h1>Question #1 \n",
        "\n",
        "<b>Create a linear regression object called \"lm1\".</b>\n",
        "\n",
        "</div>"
      ],
      "metadata": {
        "id": "c9_pePFrMyIK"
      }
    },
    {
      "cell_type": "code",
      "source": [
        "#Create the linear regression object:\n",
        "lm1 = LinearRegression()\n",
        "lm1"
      ],
      "metadata": {
        "colab": {
          "base_uri": "https://localhost:8080/",
          "height": 0
        },
        "id": "IfjpbP64MXlD",
        "outputId": "0b563f69-6f60-4e62-fbf3-1eaa79471181"
      },
      "execution_count": 68,
      "outputs": [
        {
          "output_type": "execute_result",
          "data": {
            "text/plain": [
              "LinearRegression()"
            ]
          },
          "metadata": {},
          "execution_count": 68
        }
      ]
    },
    {
      "cell_type": "markdown",
      "source": [
        "<div class=\"alert alert-danger alertdanger\" style=\"margin-top: 20px\">\n",
        "<h1> Question #1 b): </h1>\n",
        "\n",
        "<b>Train the model using \"engine-size\" as the independent variable and \"price\" as the dependent variable?</b>\n",
        "\n",
        "</div>\n"
      ],
      "metadata": {
        "id": "Gy8sld08NF4I"
      }
    },
    {
      "cell_type": "code",
      "source": [
        "X = df[['engine-size']]\n",
        "Y = df['price']\n",
        "\n",
        "lm1.fit(X,Y)"
      ],
      "metadata": {
        "colab": {
          "base_uri": "https://localhost:8080/",
          "height": 0
        },
        "id": "9IFgj8RBNCUS",
        "outputId": "ad2d0fd6-280b-4f53-ebb9-300c943b7db9"
      },
      "execution_count": 69,
      "outputs": [
        {
          "output_type": "execute_result",
          "data": {
            "text/plain": [
              "LinearRegression()"
            ]
          },
          "metadata": {},
          "execution_count": 69
        }
      ]
    },
    {
      "cell_type": "markdown",
      "source": [
        "<div class=\"alert alert-danger alertdanger\" style=\"margin-top: 20px\">\n",
        "<h1>Question #1 c):</h1>\n",
        "\n",
        "<b>Find the slope and intercept of the model.</b>\n",
        "\n",
        "</div>\n"
      ],
      "metadata": {
        "id": "jSGKpacBN9zH"
      }
    },
    {
      "cell_type": "code",
      "source": [
        "lm1.intercept_"
      ],
      "metadata": {
        "colab": {
          "base_uri": "https://localhost:8080/",
          "height": 0
        },
        "id": "7d8Suzn0NOn_",
        "outputId": "a1c07b04-8c23-411b-cb26-d72739dad87e"
      },
      "execution_count": 70,
      "outputs": [
        {
          "output_type": "execute_result",
          "data": {
            "text/plain": [
              "-7963.338906281042"
            ]
          },
          "metadata": {},
          "execution_count": 70
        }
      ]
    },
    {
      "cell_type": "code",
      "source": [
        "lm1.coef_"
      ],
      "metadata": {
        "colab": {
          "base_uri": "https://localhost:8080/",
          "height": 0
        },
        "id": "Bzw8p5GyOeK5",
        "outputId": "9507ed35-d518-4d20-b141-0b13a5d48092"
      },
      "execution_count": 71,
      "outputs": [
        {
          "output_type": "execute_result",
          "data": {
            "text/plain": [
              "array([166.86001569])"
            ]
          },
          "metadata": {},
          "execution_count": 71
        }
      ]
    },
    {
      "cell_type": "markdown",
      "source": [
        "<div class=\"alert alert-danger alertdanger\" style=\"margin-top: 20px\">\n",
        "<h1>Question #1 d): </h1>\n",
        "\n",
        "<b>What is the equation of the predicted line? You can use x and yhat or \"engine-size\" or \"price\".</b>\n",
        "\n",
        "</div>"
      ],
      "metadata": {
        "id": "vFg0OOzHOqn-"
      }
    },
    {
      "cell_type": "markdown",
      "source": [
        "<b>Price</b> = -7963.338 -  166.86 <b>df ['engine-size']</b>"
      ],
      "metadata": {
        "id": "chs2FxshO47q"
      }
    },
    {
      "cell_type": "code",
      "source": [
        "#Let's develop a model using these variables as the predictor variables.\n",
        "Z = df[['horsepower', 'curb-weight', 'engine-size', 'highway-mpg']]\n",
        "#Fit the linear model using the four above-mentioned variables\n",
        "lm.fit(Z, df['price'])"
      ],
      "metadata": {
        "colab": {
          "base_uri": "https://localhost:8080/",
          "height": 0
        },
        "id": "QfEuqfBsOk1l",
        "outputId": "34f72a66-cf73-4a30-dee9-f9373095b345"
      },
      "execution_count": 86,
      "outputs": [
        {
          "output_type": "execute_result",
          "data": {
            "text/plain": [
              "LinearRegression()"
            ]
          },
          "metadata": {},
          "execution_count": 86
        }
      ]
    },
    {
      "cell_type": "code",
      "source": [
        "#What is the value of the intercept(a)?\n",
        "\n",
        "lm.intercept_"
      ],
      "metadata": {
        "colab": {
          "base_uri": "https://localhost:8080/",
          "height": 0
        },
        "id": "saVqP9f_Pn0L",
        "outputId": "667d3775-54e7-474f-c187-fab13070174e"
      },
      "execution_count": 73,
      "outputs": [
        {
          "output_type": "execute_result",
          "data": {
            "text/plain": [
              "-15806.62462632922"
            ]
          },
          "metadata": {},
          "execution_count": 73
        }
      ]
    },
    {
      "cell_type": "code",
      "source": [
        "#What are the values of the coefficients (b1, b2, b3, b4)?\n",
        "\n",
        "lm.coef_"
      ],
      "metadata": {
        "colab": {
          "base_uri": "https://localhost:8080/",
          "height": 0
        },
        "id": "EWc6K5vXPz8-",
        "outputId": "33efcff0-0740-4fe4-c9de-f21a964972ae"
      },
      "execution_count": 74,
      "outputs": [
        {
          "output_type": "execute_result",
          "data": {
            "text/plain": [
              "array([53.49574423,  4.70770099, 81.53026382, 36.05748882])"
            ]
          },
          "metadata": {},
          "execution_count": 74
        }
      ]
    },
    {
      "cell_type": "code",
      "source": [],
      "metadata": {
        "id": "nsyoGkNjP0w-"
      },
      "execution_count": 74,
      "outputs": []
    },
    {
      "cell_type": "markdown",
      "source": [
        "What is the final estimated linear model that we get?\n",
        "\n",
        "As we saw above, we should get a final linear function with the structure:\n",
        "\n",
        "$$\n",
        "Yhat = a + b\\_1 X\\_1 + b\\_2 X\\_2 + b\\_3 X\\_3 + b\\_4 X\\_4\n",
        "$$\n",
        " \n",
        "What is the linear function we get in this example?\n",
        "\n",
        "Price = -15678.742628061467 + 52.65851272 x horsepower + 4.69878948 x curb-weight + 81.95906216 x engine-size + 33.58258185 x highway-mpg"
      ],
      "metadata": {
        "id": "Qt5K9q5XP_tB"
      }
    },
    {
      "cell_type": "markdown",
      "source": [
        "Question #2 a): \n",
        "Create and train a Multiple Linear Regression model \"lm2\" where the response variable is \"price\", and the predictor variable is \"normalized-losses\" and \"highway-mpg\"."
      ],
      "metadata": {
        "id": "BNEDjww8QLXN"
      }
    },
    {
      "cell_type": "code",
      "source": [
        "Z = df[['normalized-losses', 'highway-mpg']]"
      ],
      "metadata": {
        "id": "QMY1wZPPP1VJ"
      },
      "execution_count": 75,
      "outputs": []
    },
    {
      "cell_type": "code",
      "source": [
        "lm1.fit(Z,df['price'])"
      ],
      "metadata": {
        "colab": {
          "base_uri": "https://localhost:8080/",
          "height": 0
        },
        "id": "533eUiHmP1X8",
        "outputId": "e88de81e-1de8-4c57-c298-945308cc7196"
      },
      "execution_count": 76,
      "outputs": [
        {
          "output_type": "execute_result",
          "data": {
            "text/plain": [
              "LinearRegression()"
            ]
          },
          "metadata": {},
          "execution_count": 76
        }
      ]
    },
    {
      "cell_type": "code",
      "source": [
        "lm1.intercept_"
      ],
      "metadata": {
        "colab": {
          "base_uri": "https://localhost:8080/",
          "height": 0
        },
        "id": "EgYQU1woP1ao",
        "outputId": "bcc3daf7-7284-42aa-eec6-557e6431aa6f"
      },
      "execution_count": 77,
      "outputs": [
        {
          "output_type": "execute_result",
          "data": {
            "text/plain": [
              "38201.31327245728"
            ]
          },
          "metadata": {},
          "execution_count": 77
        }
      ]
    },
    {
      "cell_type": "markdown",
      "source": [
        "<div class=\"alert alert-danger alertdanger\" style=\"margin-top: 20px\">\n",
        "<h1>Question  #2 b): </h1>\n",
        "<b>Find the coefficient of the model.</b>\n",
        "</div>\n"
      ],
      "metadata": {
        "id": "dYXmUvcbS19S"
      }
    },
    {
      "cell_type": "code",
      "source": [
        "lm1.coef_\n"
      ],
      "metadata": {
        "colab": {
          "base_uri": "https://localhost:8080/",
          "height": 0
        },
        "id": "-m-d06SEP1eR",
        "outputId": "29557d32-1567-449d-87b4-3820529aaf23"
      },
      "execution_count": 78,
      "outputs": [
        {
          "output_type": "execute_result",
          "data": {
            "text/plain": [
              "array([   1.49789586, -820.45434016])"
            ]
          },
          "metadata": {},
          "execution_count": 78
        }
      ]
    },
    {
      "cell_type": "markdown",
      "source": [
        "# 2. Model Evaluation Using Visualization\n",
        "Now that we've developed some models, how do we evaluate our models and choose the best one? One way to do this is by using a visualization.\n",
        "\n",
        "Import the visualization package, seaborn:"
      ],
      "metadata": {
        "id": "lgi20R1XTAFy"
      }
    },
    {
      "cell_type": "code",
      "source": [
        "import seaborn as sns\n",
        "%matplotlib inline "
      ],
      "metadata": {
        "id": "fU9WNsIKP1hd"
      },
      "execution_count": 79,
      "outputs": []
    },
    {
      "cell_type": "markdown",
      "source": [
        "<p>The regression plot will show a combination of a scattered data points (a <b>scatterplot</b>), as well as the fitted <b>linear regression</b> line going through the data. This will give us a reasonable estimate of the relationship between the two variables, the strength of the correlation, as well as the direction (positive or negative correlation).</p>\n"
      ],
      "metadata": {
        "id": "gJQcsmQYTZ7R"
      }
    },
    {
      "cell_type": "code",
      "source": [
        "#Let's visualize **highway-mpg** as potential predictor variable of price:\n",
        "width = 12\n",
        "height = 10\n",
        "plt.figure(figsize=(width, height))\n",
        "sns.regplot(x=\"highway-mpg\", y=\"price\", data=df)\n",
        "plt.ylim(0,)"
      ],
      "metadata": {
        "colab": {
          "base_uri": "https://localhost:8080/",
          "height": 624
        },
        "id": "HFwBT2P_TMGw",
        "outputId": "3a7a3324-a134-4313-bc2a-9d4e3b0fb908"
      },
      "execution_count": 80,
      "outputs": [
        {
          "output_type": "execute_result",
          "data": {
            "text/plain": [
              "(0.0, 48177.12447333627)"
            ]
          },
          "metadata": {},
          "execution_count": 80
        },
        {
          "output_type": "display_data",
          "data": {
            "text/plain": [
              "<Figure size 864x720 with 1 Axes>"
            ],
            "image/png": "[encoded data removed]"
          },
          "metadata": {
            "needs_background": "light"
          }
        }
      ]
    },
    {
      "cell_type": "markdown",
      "source": [
        "We can see from this plot that price is negatively correlated to highway-mpg since the regression slope is negative."
      ],
      "metadata": {
        "id": "UiXKgkqLTy41"
      }
    },
    {
      "cell_type": "markdown",
      "source": [
        "Let's compare this plot to the regression plot of \"peak-rpm\"."
      ],
      "metadata": {
        "id": "lSPZ5uWbU0gX"
      }
    },
    {
      "cell_type": "code",
      "source": [
        "plt.figure(figsize=(width, height))\n",
        "sns.regplot(x=\"peak-rpm\", y=\"price\", data=df)\n",
        "plt.ylim(0,)"
      ],
      "metadata": {
        "colab": {
          "base_uri": "https://localhost:8080/",
          "height": 624
        },
        "id": "uDrwoPFQUxDG",
        "outputId": "69906c6f-463f-4983-a8ed-d31ac98aef1f"
      },
      "execution_count": 81,
      "outputs": [
        {
          "output_type": "execute_result",
          "data": {
            "text/plain": [
              "(0.0, 47414.1)"
            ]
          },
          "metadata": {},
          "execution_count": 81
        },
        {
          "output_type": "display_data",
          "data": {
            "text/plain": [
              "<Figure size 864x720 with 1 Axes>"
            ],
            "image/png": "[encoded data removed]"
          },
          "metadata": {
            "needs_background": "light"
          }
        }
      ]
    },
    {
      "cell_type": "markdown",
      "source": [
        "Comparing the regression plot of \"peak-rpm\" and \"highway-mpg\", we see that the points for \"highway-mpg\" are much closer to the generated line and, on average, decrease. The points for \"peak-rpm\" have more spread around the predicted line and it is much harder to determine if the points are decreasing or increasing as the \"peak-rpm\" increases."
      ],
      "metadata": {
        "id": "mMt-SdnUVAa_"
      }
    },
    {
      "cell_type": "markdown",
      "source": [
        "<div class=\"alert alert-danger alertdanger\" style=\"margin-top: 20px\">\n",
        "<h1>Question #3:</h1>\n",
        "<b>Given the regression plots above, is \"peak-rpm\" or \"highway-mpg\" more strongly correlated with \"price\"? Use the method  \".corr()\" to verify your answer.</b>\n",
        "</div>\n"
      ],
      "metadata": {
        "id": "moQ56gWoVNww"
      }
    },
    {
      "cell_type": "code",
      "source": [
        "df[['peak-rpm','highway-mpg', 'price']].corr()"
      ],
      "metadata": {
        "colab": {
          "base_uri": "https://localhost:8080/",
          "height": 143
        },
        "id": "U4KshpdQUxcJ",
        "outputId": "b0b39693-1cc7-462b-eeb4-9e9ed0f3fa0d"
      },
      "execution_count": 82,
      "outputs": [
        {
          "output_type": "execute_result",
          "data": {
            "text/plain": [
              "             peak-rpm  highway-mpg     price\n",
              "peak-rpm     1.000000    -0.058598 -0.101616\n",
              "highway-mpg -0.058598     1.000000 -0.704692\n",
              "price       -0.101616    -0.704692  1.000000"
            ],
            "text/html": [
              "\n",
              "  <div id=\"df-d95a34cd-0fea-45c7-ba01-b39eb33770d4\">\n",
              "    <div class=\"colab-df-container\">\n",
              "      <div>\n",
              "<style scoped>\n",
              "    .dataframe tbody tr th:only-of-type {\n",
              "        vertical-align: middle;\n",
              "    }\n",
              "\n",
              "    .dataframe tbody tr th {\n",
              "        vertical-align: top;\n",
              "    }\n",
              "\n",
              "    .dataframe thead th {\n",
              "        text-align: right;\n",
              "    }\n",
              "</style>\n",
              "<table border=\"1\" class=\"dataframe\">\n",
              "  <thead>\n",
              "    <tr style=\"text-align: right;\">\n",
              "      <th></th>\n",
              "      <th>peak-rpm</th>\n",
              "      <th>highway-mpg</th>\n",
              "      <th>price</th>\n",
              "    </tr>\n",
              "  </thead>\n",
              "  <tbody>\n",
              "    <tr>\n",
              "      <th>peak-rpm</th>\n",
              "      <td>1.000000</td>\n",
              "      <td>-0.058598</td>\n",
              "      <td>-0.101616</td>\n",
              "    </tr>\n",
              "    <tr>\n",
              "      <th>highway-mpg</th>\n",
              "      <td>-0.058598</td>\n",
              "      <td>1.000000</td>\n",
              "      <td>-0.704692</td>\n",
              "    </tr>\n",
              "    <tr>\n",
              "      <th>price</th>\n",
              "      <td>-0.101616</td>\n",
              "      <td>-0.704692</td>\n",
              "      <td>1.000000</td>\n",
              "    </tr>\n",
              "  </tbody>\n",
              "</table>\n",
              "</div>\n",
              "      <button class=\"colab-df-convert\" onclick=\"convertToInteractive('df-d95a34cd-0fea-45c7-ba01-b39eb33770d4')\"\n",
              "              title=\"Convert this dataframe to an interactive table.\"\n",
              "              style=\"display:none;\">\n",
              "        \n",
              "  <svg xmlns=\"http://www.w3.org/2000/svg\" height=\"24px\"viewBox=\"0 0 24 24\"\n",
              "       width=\"24px\">\n",
              "    <path d=\"M0 0h24v24H0V0z\" fill=\"none\"/>\n",
              "    <path d=\"M18.56 5.44l.94 2.06.94-2.06 2.06-.94-2.06-.94-.94-2.06-.94 2.06-2.06.94zm-11 1L8.5 8.5l.94-2.06 2.06-.94-2.06-.94L8.5 2.5l-.94 2.06-2.06.94zm10 10l.94 2.06.94-2.06 2.06-.94-2.06-.94-.94-2.06-.94 2.06-2.06.94z\"/><path d=\"M17.41 7.96l-1.37-1.37c-.4-.4-.92-.59-1.43-.59-.52 0-1.04.2-1.43.59L10.3 9.45l-7.72 7.72c-.78.78-.78 2.05 0 2.83L4 21.41c.39.39.9.59 1.41.59.51 0 1.02-.2 1.41-.59l7.78-7.78 2.81-2.81c.8-.78.8-2.07 0-2.86zM5.41 20L4 18.59l7.72-7.72 1.47 1.35L5.41 20z\"/>\n",
              "  </svg>\n",
              "      </button>\n",
              "      \n",
              "  <style>\n",
              "    .colab-df-container {\n",
              "      display:flex;\n",
              "      flex-wrap:wrap;\n",
              "      gap: 12px;\n",
              "    }\n",
              "\n",
              "    .colab-df-convert {\n",
              "      background-color: #E8F0FE;\n",
              "      border: none;\n",
              "      border-radius: 50%;\n",
              "      cursor: pointer;\n",
              "      display: none;\n",
              "      fill: #1967D2;\n",
              "      height: 32px;\n",
              "      padding: 0 0 0 0;\n",
              "      width: 32px;\n",
              "    }\n",
              "\n",
              "    .colab-df-convert:hover {\n",
              "      background-color: #E2EBFA;\n",
              "      box-shadow: 0px 1px 2px rgba(60, 64, 67, 0.3), 0px 1px 3px 1px rgba(60, 64, 67, 0.15);\n",
              "      fill: #174EA6;\n",
              "    }\n",
              "\n",
              "    [theme=dark] .colab-df-convert {\n",
              "      background-color: #3B4455;\n",
              "      fill: #D2E3FC;\n",
              "    }\n",
              "\n",
              "    [theme=dark] .colab-df-convert:hover {\n",
              "      background-color: #434B5C;\n",
              "      box-shadow: 0px 1px 3px 1px rgba(0, 0, 0, 0.15);\n",
              "      filter: drop-shadow(0px 1px 2px rgba(0, 0, 0, 0.3));\n",
              "      fill: #FFFFFF;\n",
              "    }\n",
              "  </style>\n",
              "\n",
              "      <script>\n",
              "        const buttonEl =\n",
              "          document.querySelector('#df-d95a34cd-0fea-45c7-ba01-b39eb33770d4 button.colab-df-convert');\n",
              "        buttonEl.style.display =\n",
              "          google.colab.kernel.accessAllowed ? 'block' : 'none';\n",
              "\n",
              "        async function convertToInteractive(key) {\n",
              "          const element = document.querySelector('#df-d95a34cd-0fea-45c7-ba01-b39eb33770d4');\n",
              "          const dataTable =\n",
              "            await google.colab.kernel.invokeFunction('convertToInteractive',\n",
              "                                                     [key], {});\n",
              "          if (!dataTable) return;\n",
              "\n",
              "          const docLinkHtml = 'Like what you see? Visit the ' +\n",
              "            '<a target=\"_blank\" href=https://colab.research.google.com/notebooks/data_table.ipynb>data table notebook</a>'\n",
              "            + ' to learn more about interactive tables.';\n",
              "          element.innerHTML = '';\n",
              "          dataTable['output_type'] = 'display_data';\n",
              "          await google.colab.output.renderOutput(dataTable, element);\n",
              "          const docLink = document.createElement('div');\n",
              "          docLink.innerHTML = docLinkHtml;\n",
              "          element.appendChild(docLink);\n",
              "        }\n",
              "      </script>\n",
              "    </div>\n",
              "  </div>\n",
              "  "
            ]
          },
          "metadata": {},
          "execution_count": 82
        }
      ]
    },
    {
      "cell_type": "code",
      "source": [],
      "metadata": {
        "id": "zboNUmSzVb-7"
      },
      "execution_count": 82,
      "outputs": []
    },
    {
      "cell_type": "markdown",
      "source": [
        "de la matriz de correlación vemos que la variable independiente 'peak-rpm' tiene una correlación negativa muy baja con 'price', sin embargo 'highway-mpg' está claramente correlacionada con precio de manera negativa."
      ],
      "metadata": {
        "id": "wpISTOonVcdp"
      }
    },
    {
      "cell_type": "markdown",
      "source": [
        "<h3>Residual Plot</h3>\n",
        "\n",
        "<p>A good way to visualize the variance of the data is to use a residual plot.</p>\n",
        "\n",
        "<p>What is a <b>residual</b>?</p>\n",
        "\n",
        "<p>The difference between the observed value (y) and the predicted value (Yhat) is called the residual (e). When we look at a regression plot, the residual is the distance from the data point to the fitted regression line.</p>\n",
        "\n",
        "<p>So what is a <b>residual plot</b>?</p>\n",
        "\n",
        "<p>A residual plot is a graph that shows the residuals on the vertical y-axis and the independent variable on the horizontal x-axis.</p>\n",
        "\n",
        "<p>What do we pay attention to when looking at a residual plot?</p>\n",
        "\n",
        "<p>We look at the spread of the residuals:</p>\n",
        "\n",
        "<p>- If the points in a residual plot are <b>randomly spread out around the x-axis</b>, then a <b>linear model is appropriate</b> for the data.\n",
        "\n",
        "Why is that? Randomly spread out residuals means that the variance is constant, and thus the linear model is a good fit for this data.</p>\n"
      ],
      "metadata": {
        "id": "nyZMLd1DWRSy"
      }
    },
    {
      "cell_type": "code",
      "source": [
        "width = 12\n",
        "height = 10\n",
        "plt.figure(figsize=(width, height))\n",
        "sns.residplot(x=df['highway-mpg'],y=df['price'])\n",
        "plt.show()"
      ],
      "metadata": {
        "colab": {
          "base_uri": "https://localhost:8080/",
          "height": 606
        },
        "id": "HbyEnnzJVXfe",
        "outputId": "eada1137-30ae-445d-b831-91e8d42fbaf4"
      },
      "execution_count": 83,
      "outputs": [
        {
          "output_type": "display_data",
          "data": {
            "text/plain": [
              "<Figure size 864x720 with 1 Axes>"
            ],
            "image/png": "[encoded data removed]"
          },
          "metadata": {
            "needs_background": "light"
          }
        }
      ]
    },
    {
      "cell_type": "markdown",
      "source": [
        "What is this plot telling us?\n",
        "\n",
        "We can see from this residual plot that the residuals are not randomly spread around the x-axis, leading us to believe that maybe a non-linear model is more appropriate for this data."
      ],
      "metadata": {
        "id": "3sKAyTA8WyR3"
      }
    },
    {
      "cell_type": "markdown",
      "source": [
        "<h3>Multiple Linear Regression</h3>\n",
        "\n",
        "<p>How do we visualize a model for Multiple Linear Regression? This gets a bit more complicated because you can't visualize it with regression or residual plot.</p>\n",
        "\n",
        "<p>One way to look at the fit of the model is by looking at the <b>distribution plot</b>. We can look at the distribution of the fitted values that result from the model and compare it to the distribution of the actual values.</p>\n"
      ],
      "metadata": {
        "id": "HJaF9NBLW2AI"
      }
    },
    {
      "cell_type": "code",
      "source": [
        "#First, let's make a prediction:\n",
        "Y_hat = lm.predict(Z)"
      ],
      "metadata": {
        "id": "E1xANR2oXrov"
      },
      "execution_count": 94,
      "outputs": []
    },
    {
      "cell_type": "code",
      "source": [
        "\n",
        "plt.figure(figsize=(width, height))\n",
        "\n",
        "\n",
        "ax1 = sns.distplot(df['price'], hist=False, color=\"r\", label=\"Actual Value\")\n",
        "sns.distplot(Y_hat, hist=False, color=\"b\", label=\"Fitted Values\" , ax=ax1)\n",
        "\n",
        "\n",
        "plt.title('Actual vs Fitted Values for Price')\n",
        "plt.xlabel('Price (in dollars)')\n",
        "plt.ylabel('Proportion of Cars')\n",
        "\n",
        "plt.show()\n",
        "plt.close()"
      ],
      "metadata": {
        "colab": {
          "base_uri": "https://localhost:8080/",
          "height": 713
        },
        "id": "YVhRdb6ZWi8Z",
        "outputId": "7e9fa916-68fb-42ce-a8a6-9fd14707f5f5"
      },
      "execution_count": 93,
      "outputs": [
        {
          "output_type": "stream",
          "name": "stderr",
          "text": [
            "/usr/local/lib/python3.7/dist-packages/seaborn/distributions.py:2619: FutureWarning: `distplot` is a deprecated function and will be removed in a future version. Please adapt your code to use either `displot` (a figure-level function with similar flexibility) or `kdeplot` (an axes-level function for kernel density plots).\n",
            "  warnings.warn(msg, FutureWarning)\n",
            "/usr/local/lib/python3.7/dist-packages/seaborn/distributions.py:2619: FutureWarning: `distplot` is a deprecated function and will be removed in a future version. Please adapt your code to use either `displot` (a figure-level function with similar flexibility) or `kdeplot` (an axes-level function for kernel density plots).\n",
            "  warnings.warn(msg, FutureWarning)\n"
          ]
        },
        {
          "output_type": "display_data",
          "data": {
            "text/plain": [
              "<Figure size 864x720 with 1 Axes>"
            ],
            "image/png": "[encoded data removed]"
          },
          "metadata": {
            "needs_background": "light"
          }
        }
      ]
    },
    {
      "cell_type": "markdown",
      "source": [
        "We can see that the fitted values are reasonably close to the actual values since the two distributions overlap a bit. However, there is definitely some room for improvement."
      ],
      "metadata": {
        "id": "_UUv6uM5XF24"
      }
    },
    {
      "cell_type": "markdown",
      "source": [
        "<h2>3. Polynomial Regression and Pipelines</h2>"
      ],
      "metadata": {
        "id": "fN6PUmn_Y8F6"
      }
    },
    {
      "cell_type": "markdown",
      "source": [
        "<p><b>Polynomial regression</b> is a particular case of the general linear regression model or multiple linear regression models.</p> \n",
        "<p>We get non-linear relationships by squaring or setting higher-order terms of the predictor variables.</p>\n",
        "\n",
        "<p>There are different orders of polynomial regression:</p>\n"
      ],
      "metadata": {
        "id": "yJ23sPSZY8sP"
      }
    },
    {
      "cell_type": "markdown",
      "source": [
        "<center><b>Quadratic - 2nd Order</b></center>\n",
        "$$\n",
        "Yhat = a + b_1 X +b_2 X^2 \n",
        "$$\n",
        "\n",
        "<center><b>Cubic - 3rd Order</b></center>\n",
        "$$\n",
        "Yhat = a + b_1 X +b_2 X^2 +b_3 X^3\\\\\\\\\\\\\\\\\\\\\n",
        "$$\n",
        "\n",
        "<center><b>Higher-Order</b>:</center>\n",
        "$$\n",
        "Y = a + b_1 X +b_2 X^2 +b_3 X^3 ....\\\\\\\\\n",
        "$$\n"
      ],
      "metadata": {
        "id": "EIMECndoaS96"
      }
    },
    {
      "cell_type": "code",
      "source": [
        "#We will use the following function to plot the data:\n",
        "def PlotPolly(model, independent_variable, dependent_variabble, Name):\n",
        "    x_new = np.linspace(15, 55, 100)\n",
        "    y_new = model(x_new)\n",
        "\n",
        "    plt.plot(independent_variable, dependent_variabble, '.', x_new, y_new, '-')\n",
        "    plt.title('Polynomial Fit with Matplotlib for Price ~ Length')\n",
        "    ax = plt.gca()\n",
        "    ax.set_facecolor((0.898, 0.898, 0.898))\n",
        "    fig = plt.gcf()\n",
        "    plt.xlabel(Name)\n",
        "    plt.ylabel('Price of Cars')\n",
        "\n",
        "    plt.show()\n",
        "    plt.close()"
      ],
      "metadata": {
        "id": "wcgaqAG9Y8Xc"
      },
      "execution_count": 99,
      "outputs": []
    },
    {
      "cell_type": "code",
      "source": [
        "#Let's get the variables:\n",
        "x = df['highway-mpg']\n",
        "y = df['price']"
      ],
      "metadata": {
        "id": "V5fD0mxmY8ay"
      },
      "execution_count": 100,
      "outputs": []
    },
    {
      "cell_type": "code",
      "source": [
        "#Let's fit the polynomial using the function polyfit, then use the function poly1d to display the polynomial function.\n",
        "\n",
        "# Here we use a polynomial of the 3rd order (cubic) \n",
        "f = np.polyfit(x, y, 3)\n",
        "p = np.poly1d(f)\n",
        "print(p)"
      ],
      "metadata": {
        "colab": {
          "base_uri": "https://localhost:8080/",
          "height": 0
        },
        "id": "0HjnDrV6avUs",
        "outputId": "4b1b2d59-77d1-4f51-d64a-4c2e48662895"
      },
      "execution_count": 101,
      "outputs": [
        {
          "output_type": "stream",
          "name": "stdout",
          "text": [
            "        3         2\n",
            "-1.557 x + 204.8 x - 8965 x + 1.379e+05\n"
          ]
        }
      ]
    },
    {
      "cell_type": "code",
      "source": [
        "#Let's plot the function:\n",
        "\n",
        "PlotPolly(p, x, y, 'highway-mpg')"
      ],
      "metadata": {
        "colab": {
          "base_uri": "https://localhost:8080/",
          "height": 295
        },
        "id": "irJkgPUSax6i",
        "outputId": "4297c727-a1e4-4f0d-d040-cb9a0d2abaab"
      },
      "execution_count": 102,
      "outputs": [
        {
          "output_type": "display_data",
          "data": {
            "text/plain": [
              "<Figure size 432x288 with 1 Axes>"
            ],
            "image/png": "[encoded data removed]"
          },
          "metadata": {
            "needs_background": "light"
          }
        }
      ]
    },
    {
      "cell_type": "code",
      "source": [
        "np.polyfit(x, y, 3)"
      ],
      "metadata": {
        "colab": {
          "base_uri": "https://localhost:8080/",
          "height": 0
        },
        "id": "DB6fnFDZa-PP",
        "outputId": "88ddba77-f27a-487c-fed4-c87fda8e6597"
      },
      "execution_count": 103,
      "outputs": [
        {
          "output_type": "execute_result",
          "data": {
            "text/plain": [
              "array([-1.55663829e+00,  2.04754306e+02, -8.96543312e+03,  1.37923594e+05])"
            ]
          },
          "metadata": {},
          "execution_count": 103
        }
      ]
    },
    {
      "cell_type": "markdown",
      "source": [
        "We can already see from plotting that this polynomial model performs better than the linear model. This is because the generated polynomial function \"hits\" more of the data points."
      ],
      "metadata": {
        "id": "6Gby6lY9bClq"
      }
    },
    {
      "cell_type": "markdown",
      "source": [
        "<div class=\"alert alert-danger alertdanger\" style=\"margin-top: 20px\">\n",
        "<h1>Question  #4:</h1>\n",
        "<b>Create 11 order polynomial model with the variables x and y from above.</b>\n",
        "</div>"
      ],
      "metadata": {
        "id": "88-qumhobUx_"
      }
    },
    {
      "cell_type": "code",
      "source": [
        "# Here we use a polynomial of the 11rd order (cubic) \n",
        "\n",
        "f1 = np.polyfit(x, y, 11)\n",
        "p1 = np.poly1d(f1)\n",
        "print(p1)\n",
        "PlotPolly(p1,x,y, 'Highway MPG')\n"
      ],
      "metadata": {
        "colab": {
          "base_uri": "https://localhost:8080/",
          "height": 367
        },
        "id": "zwtK2vP8a-xz",
        "outputId": "37f77628-98d4-440d-fc2f-df54b72d0dbd"
      },
      "execution_count": 104,
      "outputs": [
        {
          "output_type": "stream",
          "name": "stdout",
          "text": [
            "            11             10             9           8         7\n",
            "-1.243e-08 x  + 4.722e-06 x  - 0.0008028 x + 0.08056 x - 5.297 x\n",
            "          6        5             4             3             2\n",
            " + 239.5 x - 7588 x + 1.684e+05 x - 2.565e+06 x + 2.551e+07 x - 1.491e+08 x + 3.879e+08\n"
          ]
        },
        {
          "output_type": "display_data",
          "data": {
            "text/plain": [
              "<Figure size 432x288 with 1 Axes>"
            ],
            "image/png": "[encoded data removed]"
          },
          "metadata": {
            "needs_background": "light"
          }
        }
      ]
    },
    {
      "cell_type": "code",
      "source": [],
      "metadata": {
        "id": "TINR9HHebmB8"
      },
      "execution_count": null,
      "outputs": []
    },
    {
      "cell_type": "markdown",
      "source": [
        "<p>The analytical expression for Multivariate Polynomial function gets complicated. For example, the expression for a second-order (degree=2) polynomial with two variables is given by:</p>"
      ],
      "metadata": {
        "id": "mwqX52_ibtFU"
      }
    },
    {
      "cell_type": "markdown",
      "source": [
        "$$\n",
        "Yhat = a + b\\_1 X\\_1 +b\\_2 X\\_2 +b\\_3 X\\_1 X\\_2+b\\_4 X\\_1^2+b\\_5 X\\_2^2\n",
        "$$"
      ],
      "metadata": {
        "id": "2Uz7JTgFbxK_"
      }
    },
    {
      "cell_type": "code",
      "source": [
        "from sklearn.preprocessing import PolynomialFeatures"
      ],
      "metadata": {
        "id": "4fcYXyAZbuNe"
      },
      "execution_count": 105,
      "outputs": []
    },
    {
      "cell_type": "code",
      "source": [
        "#We create a PolynomialFeatures object of degree 2:\n",
        "\n",
        "pr=PolynomialFeatures(degree=2)\n",
        "pr\n"
      ],
      "metadata": {
        "colab": {
          "base_uri": "https://localhost:8080/",
          "height": 0
        },
        "id": "4CapW39RbuQ9",
        "outputId": "092f76bd-9d0a-4185-d33c-c7aafdcdca8c"
      },
      "execution_count": 110,
      "outputs": [
        {
          "output_type": "execute_result",
          "data": {
            "text/plain": [
              "PolynomialFeatures()"
            ]
          },
          "metadata": {},
          "execution_count": 110
        }
      ]
    },
    {
      "cell_type": "code",
      "source": [
        "Z_pr=pr.fit_transform(Z)"
      ],
      "metadata": {
        "id": "K-Qyf3LWcF0A"
      },
      "execution_count": 111,
      "outputs": []
    },
    {
      "cell_type": "code",
      "source": [
        "\n",
        "#In the original data, there are 201 samples and 4 features.\n",
        "\n",
        "Z.shape\n"
      ],
      "metadata": {
        "colab": {
          "base_uri": "https://localhost:8080/",
          "height": 0
        },
        "id": "RM-wyCURbuUW",
        "outputId": "17aa5e9b-ddd5-4b6e-e35c-898ff2ba5a60"
      },
      "execution_count": 112,
      "outputs": [
        {
          "output_type": "execute_result",
          "data": {
            "text/plain": [
              "(201, 4)"
            ]
          },
          "metadata": {},
          "execution_count": 112
        }
      ]
    },
    {
      "cell_type": "code",
      "source": [
        "#After the transformation, there are 201 samples and 15 features.\n",
        "\n",
        "Z_pr.shape"
      ],
      "metadata": {
        "colab": {
          "base_uri": "https://localhost:8080/",
          "height": 0
        },
        "id": "rBCtBpl2buW8",
        "outputId": "e96668ee-3680-4ff2-daee-080dbd8e4b5c"
      },
      "execution_count": 108,
      "outputs": [
        {
          "output_type": "execute_result",
          "data": {
            "text/plain": [
              "(201, 15)"
            ]
          },
          "metadata": {},
          "execution_count": 108
        }
      ]
    },
    {
      "cell_type": "markdown",
      "source": [
        "# Pipeline\n",
        "\n",
        "Data Pipelines simplify the steps of processing the data. We use the module Pipeline to create a pipeline. We also use StandardScaler as a step in our pipeline."
      ],
      "metadata": {
        "id": "0ICzjuyAcRTP"
      }
    },
    {
      "cell_type": "code",
      "source": [
        "from sklearn.pipeline import Pipeline\n",
        "from sklearn.preprocessing import StandardScaler"
      ],
      "metadata": {
        "id": "In1mZSp6cAtw"
      },
      "execution_count": 113,
      "outputs": []
    },
    {
      "cell_type": "markdown",
      "source": [
        "We create the pipeline by creating a list of tuples including the name of the model or estimator and its corresponding constructor."
      ],
      "metadata": {
        "id": "_zwzwuVRcXkD"
      }
    },
    {
      "cell_type": "code",
      "source": [
        "Input=[('scale',StandardScaler()), ('polynomial', PolynomialFeatures(include_bias=False)), ('model',LinearRegression())]"
      ],
      "metadata": {
        "id": "9EtnBeaRcVsy"
      },
      "execution_count": 114,
      "outputs": []
    },
    {
      "cell_type": "code",
      "source": [
        "#We input the list as an argument to the pipeline constructor:\n",
        "\n",
        "pipe=Pipeline(Input)\n",
        "pipe"
      ],
      "metadata": {
        "colab": {
          "base_uri": "https://localhost:8080/",
          "height": 0
        },
        "id": "-iS73NHfcaQS",
        "outputId": "27d471d0-e5fa-469f-9ed4-e3ae01f11c5a"
      },
      "execution_count": 115,
      "outputs": [
        {
          "output_type": "execute_result",
          "data": {
            "text/plain": [
              "Pipeline(steps=[('scale', StandardScaler()),\n",
              "                ('polynomial', PolynomialFeatures(include_bias=False)),\n",
              "                ('model', LinearRegression())])"
            ]
          },
          "metadata": {},
          "execution_count": 115
        }
      ]
    },
    {
      "cell_type": "code",
      "source": [
        "#First, we convert the data type Z to type float to avoid conversion warnings that may appear as a result of StandardScaler taking float inputs.\n",
        "\n",
        "#Then, we can normalize the data, perform a transform and fit the model simultaneously.\n",
        "\n",
        "Z = Z.astype(float)\n",
        "pipe.fit(Z,y)"
      ],
      "metadata": {
        "colab": {
          "base_uri": "https://localhost:8080/",
          "height": 0
        },
        "id": "woAR4DvlcjuL",
        "outputId": "29fe07e8-424f-485e-c080-7297d13b007b"
      },
      "execution_count": 116,
      "outputs": [
        {
          "output_type": "execute_result",
          "data": {
            "text/plain": [
              "Pipeline(steps=[('scale', StandardScaler()),\n",
              "                ('polynomial', PolynomialFeatures(include_bias=False)),\n",
              "                ('model', LinearRegression())])"
            ]
          },
          "metadata": {},
          "execution_count": 116
        }
      ]
    },
    {
      "cell_type": "code",
      "source": [
        "#Similarly, we can normalize the data, perform a transform and produce a prediction simultaneously.\n",
        "\n",
        "ypipe=pipe.predict(Z)\n",
        "ypipe[0:4]"
      ],
      "metadata": {
        "colab": {
          "base_uri": "https://localhost:8080/",
          "height": 0
        },
        "id": "9pweHwCecjx9",
        "outputId": "8ae68adc-2f2f-4f57-d7ef-7722f2ca6777"
      },
      "execution_count": 117,
      "outputs": [
        {
          "output_type": "execute_result",
          "data": {
            "text/plain": [
              "array([13102.74784201, 13102.74784201, 18225.54572197, 10390.29636555])"
            ]
          },
          "metadata": {},
          "execution_count": 117
        }
      ]
    },
    {
      "cell_type": "markdown",
      "source": [
        "<div class=\"alert alert-danger alertdanger\" style=\"margin-top: 20px\">\n",
        "<h1>Question #5:</h1>\n",
        "<b>Create a pipeline that standardizes the data, then produce a prediction using a linear regression model using the features Z and target y.</b>\n",
        "</div>\n"
      ],
      "metadata": {
        "id": "FF88Ig_Tcxvz"
      }
    },
    {
      "cell_type": "code",
      "source": [
        "Input=[('scale',StandardScaler()),('model',LinearRegression())]\n",
        "\n",
        "pipe=Pipeline(Input)\n",
        "\n",
        "pipe.fit(Z,y)\n",
        "\n",
        "ypipe=pipe.predict(Z)\n",
        "ypipe[0:10]"
      ],
      "metadata": {
        "colab": {
          "base_uri": "https://localhost:8080/",
          "height": 0
        },
        "id": "PcPLfWeUcj1P",
        "outputId": "464caa96-e83b-43b2-9472-ef6725b46141"
      },
      "execution_count": 120,
      "outputs": [
        {
          "output_type": "execute_result",
          "data": {
            "text/plain": [
              "array([13699.11161184, 13699.11161184, 19051.65470233, 10620.36193015,\n",
              "       15521.31420211, 13869.66673213, 15456.16196732, 15974.00907672,\n",
              "       17612.35917161, 10722.32509097])"
            ]
          },
          "metadata": {},
          "execution_count": 120
        }
      ]
    },
    {
      "cell_type": "markdown",
      "source": [
        "<h2>4. Measures for In-Sample Evaluation</h2>\n"
      ],
      "metadata": {
        "id": "TJq5ChBjdOjW"
      }
    },
    {
      "cell_type": "markdown",
      "source": [
        "<p>When evaluating our models, not only do we want to visualize the results, but we also want a quantitative measure to determine how accurate the model is.</p>\n",
        "\n",
        "<p>Two very important measures that are often used in Statistics to determine the accuracy of a model are:</p>\n",
        "<ul>\n",
        "    <li><b>R^2 / R-squared</b></li>\n",
        "    <li><b>Mean Squared Error (MSE)</b></li>\n",
        "</ul>\n",
        "\n",
        "<b>R-squared</b>\n",
        "\n",
        "<p>R squared, also known as the coefficient of determination, is a measure to indicate how close the data is to the fitted regression line.</p>\n",
        "<p>The value of the R-squared is the percentage of variation of the response variable (y) that is explained by a linear model.</p>\n",
        "\n",
        "<b>Mean Squared Error (MSE)</b>\n",
        "\n",
        "<p>The Mean Squared Error measures the average of the squares of errors. That is, the difference between actual value (y) and the estimated value (ŷ).</p>\n",
        "\n",
        "<h3>Model 1: Simple Linear Regression</h3>\n"
      ],
      "metadata": {
        "id": "VHKIkEtVdMIo"
      }
    },
    {
      "cell_type": "code",
      "source": [
        "# Calculamos R square \n",
        "#highway_mpg_fit\n",
        "lm.fit(X, Y)\n",
        "# Find the R^2\n",
        "print('The R-square is: ', lm.score(X, Y))"
      ],
      "metadata": {
        "colab": {
          "base_uri": "https://localhost:8080/",
          "height": 0
        },
        "id": "2j9kqsl-cgx_",
        "outputId": "c83808c7-a817-465c-9515-cd33840636c0"
      },
      "execution_count": 134,
      "outputs": [
        {
          "output_type": "stream",
          "name": "stdout",
          "text": [
            "The R-square is:  0.7609686443622008\n"
          ]
        }
      ]
    },
    {
      "cell_type": "markdown",
      "source": [
        "We can say that ~76.09% of the variation of the price is explained by this simple linear model \"horsepower_fit\".\n",
        "\n",
        "Let's calculate the MSE:\n",
        "\n",
        "We can predict the output i.e., \"yhat\" using the predict method, where X is the input variable:"
      ],
      "metadata": {
        "id": "fiomS_aUdxgs"
      }
    },
    {
      "cell_type": "code",
      "source": [
        "Yhat=lm.predict(X)\n",
        "print('The output of the first four predicted value is: ', Yhat[0:4])"
      ],
      "metadata": {
        "colab": {
          "base_uri": "https://localhost:8080/",
          "height": 0
        },
        "id": "sQJM2DW9eGB6",
        "outputId": "34d6e10d-9718-465c-a637-6b57d5ead72f"
      },
      "execution_count": 122,
      "outputs": [
        {
          "output_type": "stream",
          "name": "stdout",
          "text": [
            "The output of the first four predicted value is:  [13728.4631336  13728.4631336  17399.38347881 10224.40280408]\n"
          ]
        }
      ]
    },
    {
      "cell_type": "code",
      "source": [
        "#Let's import the function mean_squared_error from the module metrics:\n",
        "\n",
        "from sklearn.metrics import mean_squared_error"
      ],
      "metadata": {
        "id": "HBw8PptSdpGe"
      },
      "execution_count": 135,
      "outputs": []
    },
    {
      "cell_type": "code",
      "source": [
        "#We can compare the predicted results with the actual results:\n",
        "\n",
        "mse = mean_squared_error(df['price'], Yhat)\n",
        "print('The mean square error of price and predicted value is: ', mse)"
      ],
      "metadata": {
        "colab": {
          "base_uri": "https://localhost:8080/",
          "height": 0
        },
        "id": "A6Ng7f6MgAiQ",
        "outputId": "0fd38fdc-3415-437a-801d-cd00f6772a73"
      },
      "execution_count": 136,
      "outputs": [
        {
          "output_type": "stream",
          "name": "stdout",
          "text": [
            "The mean square error of price and predicted value is:  15021126.025174143\n"
          ]
        }
      ]
    },
    {
      "cell_type": "markdown",
      "source": [
        "<h3>Model 2: Multiple Linear Regression</h3>\n"
      ],
      "metadata": {
        "id": "9l2s-5HegJFM"
      }
    },
    {
      "cell_type": "code",
      "source": [
        "#Let's calculate the R^2:\n",
        "\n",
        "# fit the model \n",
        "lm.fit(Z, df['price'])\n",
        "# Find the R^2\n",
        "print('The R-square is: ', lm.score(Z, df['price']))\n"
      ],
      "metadata": {
        "colab": {
          "base_uri": "https://localhost:8080/",
          "height": 0
        },
        "id": "_dTMGFytgDja",
        "outputId": "1e069a9d-611e-4a88-e1f3-0361cd977396"
      },
      "execution_count": 137,
      "outputs": [
        {
          "output_type": "stream",
          "name": "stdout",
          "text": [
            "The R-square is:  0.8093562806577457\n"
          ]
        }
      ]
    },
    {
      "cell_type": "markdown",
      "source": [
        "We can say that ~80.896 % of the variation of price is explained by this multiple linear regression \"multi_fit\".\n"
      ],
      "metadata": {
        "id": "uv6mIfFBgTrh"
      }
    },
    {
      "cell_type": "code",
      "source": [
        "#Let's calculate the MSE.\n",
        "\n",
        "#We produce a prediction:\n",
        "\n",
        "Y_predict_multifit = lm.predict(Z)"
      ],
      "metadata": {
        "id": "LvqzhfKmgPgY"
      },
      "execution_count": 138,
      "outputs": []
    },
    {
      "cell_type": "code",
      "source": [
        "#We compare the predicted results with the actual results:\n",
        "\n",
        "print('The mean square error of price and predicted value using multifit is: ', \\\n",
        "      mean_squared_error(df['price'], Y_predict_multifit))"
      ],
      "metadata": {
        "colab": {
          "base_uri": "https://localhost:8080/",
          "height": 0
        },
        "id": "Q2hMLZ-NgVbW",
        "outputId": "2bf4c49d-9ddb-4079-800c-61ef1d585db5"
      },
      "execution_count": 139,
      "outputs": [
        {
          "output_type": "stream",
          "name": "stdout",
          "text": [
            "The mean square error of price and predicted value using multifit is:  11980366.87072649\n"
          ]
        }
      ]
    },
    {
      "cell_type": "markdown",
      "source": [
        "<h3>Model 3: Polynomial Fit</h3>"
      ],
      "metadata": {
        "id": "o0hB-0MigcN2"
      }
    },
    {
      "cell_type": "code",
      "source": [
        "#Let's calculate the R^2.\n",
        "\n",
        "#Let’s import the function r2_score from the module metrics as we are using a different function.\n",
        "\n",
        "from sklearn.metrics import r2_score"
      ],
      "metadata": {
        "id": "u4RoHaQsgZJY"
      },
      "execution_count": 140,
      "outputs": []
    },
    {
      "cell_type": "code",
      "source": [
        "#We apply the function to get the value of R^2:\n",
        "\n",
        "r_squared = r2_score(y, p(x))\n",
        "print('The R-square value is: ', r_squared)\n"
      ],
      "metadata": {
        "colab": {
          "base_uri": "https://localhost:8080/",
          "height": 0
        },
        "id": "erKhGkKNgfzV",
        "outputId": "f3692d14-5845-45e8-9455-10b3e5d8489e"
      },
      "execution_count": 141,
      "outputs": [
        {
          "output_type": "stream",
          "name": "stdout",
          "text": [
            "The R-square value is:  0.674194666390652\n"
          ]
        }
      ]
    },
    {
      "cell_type": "markdown",
      "source": [
        "We can say that ~67.419 % of the variation of price is explained by this polynomial fit."
      ],
      "metadata": {
        "id": "qyAyoI8rgo0V"
      }
    },
    {
      "cell_type": "code",
      "source": [
        "#We can also calculate the MSE:\n",
        "\n",
        "mean_squared_error(df['price'], p(x))"
      ],
      "metadata": {
        "colab": {
          "base_uri": "https://localhost:8080/",
          "height": 0
        },
        "id": "x2ywucKigf3D",
        "outputId": "50707ac3-390b-4002-bafe-0362697ace43"
      },
      "execution_count": 142,
      "outputs": [
        {
          "output_type": "execute_result",
          "data": {
            "text/plain": [
              "20474146.426361218"
            ]
          },
          "metadata": {},
          "execution_count": 142
        }
      ]
    },
    {
      "cell_type": "markdown",
      "source": [
        "# 5. Prediction and Decision Making\n",
        "\n",
        "**Prediction**\n",
        "\n",
        "In the previous section, we trained the model using the method fit. Now we will use the method predict to produce a prediction. Lets import pyplot for plotting; we will also be using some functions from numpy."
      ],
      "metadata": {
        "id": "eSc3u40mggEK"
      }
    },
    {
      "cell_type": "code",
      "source": [
        "import matplotlib.pyplot as plt\n",
        "import numpy as np\n",
        "\n",
        "%matplotlib inline "
      ],
      "metadata": {
        "id": "FrGq0hNbhDER"
      },
      "execution_count": 156,
      "outputs": []
    },
    {
      "cell_type": "code",
      "source": [
        "#Create a new input:\n",
        "\n",
        "new_input=np.arange(1, 100, 1).reshape(-1, 1)"
      ],
      "metadata": {
        "id": "tCde-V_ehDHd"
      },
      "execution_count": 158,
      "outputs": []
    },
    {
      "cell_type": "code",
      "source": [
        "#Fit the model:\n",
        "\n",
        "lm.fit(X, Y)\n",
        "lm"
      ],
      "metadata": {
        "colab": {
          "base_uri": "https://localhost:8080/",
          "height": 0
        },
        "id": "3iDlcEe9hDKO",
        "outputId": "8994fe4e-4817-4f15-a002-896a11f6f0ab"
      },
      "execution_count": 159,
      "outputs": [
        {
          "output_type": "execute_result",
          "data": {
            "text/plain": [
              "LinearRegression()"
            ]
          },
          "metadata": {},
          "execution_count": 159
        }
      ]
    },
    {
      "cell_type": "code",
      "source": [
        "#Produce a prediction:\n",
        "\n",
        "yhat=lm.predict(new_input)\n",
        "yhat[0:5]"
      ],
      "metadata": {
        "colab": {
          "base_uri": "https://localhost:8080/",
          "height": 0
        },
        "id": "mRLUac1phDNX",
        "outputId": "b0245439-ace9-4e78-cb1f-43ab8f47a5bc"
      },
      "execution_count": 165,
      "outputs": [
        {
          "output_type": "stream",
          "name": "stderr",
          "text": [
            "/usr/local/lib/python3.7/dist-packages/sklearn/base.py:451: UserWarning: X does not have valid feature names, but LinearRegression was fitted with feature names\n",
            "  \"X does not have valid feature names, but\"\n"
          ]
        },
        {
          "output_type": "execute_result",
          "data": {
            "text/plain": [
              "array([-7796.47889059, -7629.6188749 , -7462.75885921, -7295.89884352,\n",
              "       -7129.03882782])"
            ]
          },
          "metadata": {},
          "execution_count": 165
        }
      ]
    },
    {
      "cell_type": "code",
      "source": [
        "#We can plot the data:\n",
        "\n",
        "plt.plot(new_input, yhat)\n",
        "plt.show()"
      ],
      "metadata": {
        "colab": {
          "base_uri": "https://localhost:8080/",
          "height": 265
        },
        "id": "-c8xng6qhDQ4",
        "outputId": "4759d2c2-7ff3-4165-f43f-0dc98434f04e"
      },
      "execution_count": 150,
      "outputs": [
        {
          "output_type": "display_data",
          "data": {
            "text/plain": [
              "<Figure size 432x288 with 1 Axes>"
            ],
            "image/png": "[encoded data removed]"
          },
          "metadata": {
            "needs_background": "light"
          }
        }
      ]
    },
    {
      "cell_type": "markdown",
      "source": [
        "Graded Review Questions - Results"
      ],
      "metadata": {
        "id": "1AqKdgC7ggNT"
      }
    },
    {
      "cell_type": "markdown",
      "source": [
        "![image.png](data:image/png;base64,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)"
      ],
      "metadata": {
        "id": "Yup9sNCWlVuI"
      }
    }
  ]
}