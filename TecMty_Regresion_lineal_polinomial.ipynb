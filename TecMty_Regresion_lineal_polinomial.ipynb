{
  "nbformat": 4,
  "nbformat_minor": 0,
  "metadata": {
    "kernelspec": {
      "display_name": "Python 3",
      "language": "python",
      "name": "python3"
    },
    "language_info": {
      "codemirror_mode": {
        "name": "ipython",
        "version": 3
      },
      "file_extension": ".py",
      "mimetype": "text/x-python",
      "name": "python",
      "nbconvert_exporter": "python",
      "pygments_lexer": "ipython3",
      "version": "3.7.7"
    },
    "colab": {
      "provenance": [],
      "collapsed_sections": [],
      "include_colab_link": true
    },
    "accelerator": "GPU"
  },
  "cells": [
    {
      "cell_type": "markdown",
      "metadata": {
        "id": "view-in-github",
        "colab_type": "text"
      },
      "source": [
        "<a href=\"https://colab.research.google.com/github/PosgradoMNA/actividades-de-aprendizaje-Emmanuel-Dominguez-A01793683/blob/main/TecMty_Regresion_lineal_polinomial.ipynb\" target=\"_parent\"><img src=\"https://colab.research.google.com/assets/colab-badge.svg\" alt=\"Open In Colab\"/></a>"
      ]
    },
    {
      "cell_type": "markdown",
      "metadata": {
        "id": "u3ytB4LpVQwM"
      },
      "source": [
        "# Ciencia y Analítica de Datos\n",
        "\n",
        "Profesor: María de la Paz Rico\n",
        "\n",
        "Fecha: 9/11/2022\n",
        "\n",
        "**Actividad Semanal -- 7 Regresiones**\n",
        "\n",
        "Emmanuel Dominguez Bravo A01793683"
      ]
    },
    {
      "cell_type": "markdown",
      "metadata": {
        "id": "WUO-kdryVQwK"
      },
      "source": [
        "# Linear Models\n"
      ]
    },
    {
      "cell_type": "code",
      "metadata": {
        "id": "HMp_I4Y6VQwN"
      },
      "source": [
        "import numpy as np\n",
        "%matplotlib inline\n",
        "import matplotlib\n",
        "import matplotlib.pyplot as plt\n",
        "import pandas as pd\n",
        "import seaborn as sns\n",
        "from sklearn.linear_model import LinearRegression\n",
        "# to make this notebook's output stable across runs\n",
        "np.random.seed(42)"
      ],
      "execution_count": 10,
      "outputs": []
    },
    {
      "cell_type": "markdown",
      "metadata": {
        "id": "szpzFXgiVQwN"
      },
      "source": [
        "## Simple Linear Regression\n",
        "\n",
        "Simple linear regression equation:\n",
        "\n",
        "$y = ax + b$\n",
        "<br>\n",
        "$a$: slope\n",
        "<br>\n",
        "$b$: intercept\n",
        "\n",
        "Generate linear-looking data with the equation:\n",
        "\n",
        "$y = 3X + 4 + noise$"
      ]
    },
    {
      "cell_type": "markdown",
      "metadata": {
        "id": "nTKFj4x9LMXm"
      },
      "source": [
        "# Ejercicio 1\n",
        "\n",
        "Utiliza la base de datos de \n",
        "https://www.kaggle.com/vinicius150987/manufacturing-cost\n",
        "\n",
        "Suponga que trabaja como consultor de una empresa de nueva creación que busca desarrollar un modelo para estimar el costo de los bienes vendidos a medida que varían el volumen de producción (número de unidades producidas). La startup recopiló datos y le pidió que desarrollara un modelo para predecir su costo frente a la cantidad de unidades vendidas."
      ]
    },
    {
      "cell_type": "code",
      "metadata": {
        "colab": {
          "base_uri": "https://localhost:8080/",
          "height": 363
        },
        "id": "oTnErQOkL3oa",
        "outputId": "3307ee6b-b4e9-4fed-f379-fbeabdf74088"
      },
      "source": [
        "import pandas as pd\n",
        "df = pd.read_csv('https://raw.githubusercontent.com/marypazrf/bdd/main/EconomiesOfScale.csv')\n",
        "df.sample(10)"
      ],
      "execution_count": 3,
      "outputs": [
        {
          "output_type": "execute_result",
          "data": {
            "text/plain": [
              "     Number of Units  Manufacturing Cost\n",
              "521         4.518689           38.634483\n",
              "737         5.284690           33.233497\n",
              "740         5.292696           34.550609\n",
              "660         5.030596           34.982985\n",
              "411         4.182289           43.090662\n",
              "678         5.077623           29.087582\n",
              "626         4.925292           39.152161\n",
              "513         4.483809           41.780157\n",
              "859         5.853092           36.344797\n",
              "136         3.049856           54.462176"
            ],
            "text/html": [
              "\n",
              "  <div id=\"df-b21c9ec5-713f-4079-81b2-09ae716748ad\">\n",
              "    <div class=\"colab-df-container\">\n",
              "      <div>\n",
              "<style scoped>\n",
              "    .dataframe tbody tr th:only-of-type {\n",
              "        vertical-align: middle;\n",
              "    }\n",
              "\n",
              "    .dataframe tbody tr th {\n",
              "        vertical-align: top;\n",
              "    }\n",
              "\n",
              "    .dataframe thead th {\n",
              "        text-align: right;\n",
              "    }\n",
              "</style>\n",
              "<table border=\"1\" class=\"dataframe\">\n",
              "  <thead>\n",
              "    <tr style=\"text-align: right;\">\n",
              "      <th></th>\n",
              "      <th>Number of Units</th>\n",
              "      <th>Manufacturing Cost</th>\n",
              "    </tr>\n",
              "  </thead>\n",
              "  <tbody>\n",
              "    <tr>\n",
              "      <th>521</th>\n",
              "      <td>4.518689</td>\n",
              "      <td>38.634483</td>\n",
              "    </tr>\n",
              "    <tr>\n",
              "      <th>737</th>\n",
              "      <td>5.284690</td>\n",
              "      <td>33.233497</td>\n",
              "    </tr>\n",
              "    <tr>\n",
              "      <th>740</th>\n",
              "      <td>5.292696</td>\n",
              "      <td>34.550609</td>\n",
              "    </tr>\n",
              "    <tr>\n",
              "      <th>660</th>\n",
              "      <td>5.030596</td>\n",
              "      <td>34.982985</td>\n",
              "    </tr>\n",
              "    <tr>\n",
              "      <th>411</th>\n",
              "      <td>4.182289</td>\n",
              "      <td>43.090662</td>\n",
              "    </tr>\n",
              "    <tr>\n",
              "      <th>678</th>\n",
              "      <td>5.077623</td>\n",
              "      <td>29.087582</td>\n",
              "    </tr>\n",
              "    <tr>\n",
              "      <th>626</th>\n",
              "      <td>4.925292</td>\n",
              "      <td>39.152161</td>\n",
              "    </tr>\n",
              "    <tr>\n",
              "      <th>513</th>\n",
              "      <td>4.483809</td>\n",
              "      <td>41.780157</td>\n",
              "    </tr>\n",
              "    <tr>\n",
              "      <th>859</th>\n",
              "      <td>5.853092</td>\n",
              "      <td>36.344797</td>\n",
              "    </tr>\n",
              "    <tr>\n",
              "      <th>136</th>\n",
              "      <td>3.049856</td>\n",
              "      <td>54.462176</td>\n",
              "    </tr>\n",
              "  </tbody>\n",
              "</table>\n",
              "</div>\n",
              "      <button class=\"colab-df-convert\" onclick=\"convertToInteractive('df-b21c9ec5-713f-4079-81b2-09ae716748ad')\"\n",
              "              title=\"Convert this dataframe to an interactive table.\"\n",
              "              style=\"display:none;\">\n",
              "        \n",
              "  <svg xmlns=\"http://www.w3.org/2000/svg\" height=\"24px\"viewBox=\"0 0 24 24\"\n",
              "       width=\"24px\">\n",
              "    <path d=\"M0 0h24v24H0V0z\" fill=\"none\"/>\n",
              "    <path d=\"M18.56 5.44l.94 2.06.94-2.06 2.06-.94-2.06-.94-.94-2.06-.94 2.06-2.06.94zm-11 1L8.5 8.5l.94-2.06 2.06-.94-2.06-.94L8.5 2.5l-.94 2.06-2.06.94zm10 10l.94 2.06.94-2.06 2.06-.94-2.06-.94-.94-2.06-.94 2.06-2.06.94z\"/><path d=\"M17.41 7.96l-1.37-1.37c-.4-.4-.92-.59-1.43-.59-.52 0-1.04.2-1.43.59L10.3 9.45l-7.72 7.72c-.78.78-.78 2.05 0 2.83L4 21.41c.39.39.9.59 1.41.59.51 0 1.02-.2 1.41-.59l7.78-7.78 2.81-2.81c.8-.78.8-2.07 0-2.86zM5.41 20L4 18.59l7.72-7.72 1.47 1.35L5.41 20z\"/>\n",
              "  </svg>\n",
              "      </button>\n",
              "      \n",
              "  <style>\n",
              "    .colab-df-container {\n",
              "      display:flex;\n",
              "      flex-wrap:wrap;\n",
              "      gap: 12px;\n",
              "    }\n",
              "\n",
              "    .colab-df-convert {\n",
              "      background-color: #E8F0FE;\n",
              "      border: none;\n",
              "      border-radius: 50%;\n",
              "      cursor: pointer;\n",
              "      display: none;\n",
              "      fill: #1967D2;\n",
              "      height: 32px;\n",
              "      padding: 0 0 0 0;\n",
              "      width: 32px;\n",
              "    }\n",
              "\n",
              "    .colab-df-convert:hover {\n",
              "      background-color: #E2EBFA;\n",
              "      box-shadow: 0px 1px 2px rgba(60, 64, 67, 0.3), 0px 1px 3px 1px rgba(60, 64, 67, 0.15);\n",
              "      fill: #174EA6;\n",
              "    }\n",
              "\n",
              "    [theme=dark] .colab-df-convert {\n",
              "      background-color: #3B4455;\n",
              "      fill: #D2E3FC;\n",
              "    }\n",
              "\n",
              "    [theme=dark] .colab-df-convert:hover {\n",
              "      background-color: #434B5C;\n",
              "      box-shadow: 0px 1px 3px 1px rgba(0, 0, 0, 0.15);\n",
              "      filter: drop-shadow(0px 1px 2px rgba(0, 0, 0, 0.3));\n",
              "      fill: #FFFFFF;\n",
              "    }\n",
              "  </style>\n",
              "\n",
              "      <script>\n",
              "        const buttonEl =\n",
              "          document.querySelector('#df-b21c9ec5-713f-4079-81b2-09ae716748ad button.colab-df-convert');\n",
              "        buttonEl.style.display =\n",
              "          google.colab.kernel.accessAllowed ? 'block' : 'none';\n",
              "\n",
              "        async function convertToInteractive(key) {\n",
              "          const element = document.querySelector('#df-b21c9ec5-713f-4079-81b2-09ae716748ad');\n",
              "          const dataTable =\n",
              "            await google.colab.kernel.invokeFunction('convertToInteractive',\n",
              "                                                     [key], {});\n",
              "          if (!dataTable) return;\n",
              "\n",
              "          const docLinkHtml = 'Like what you see? Visit the ' +\n",
              "            '<a target=\"_blank\" href=https://colab.research.google.com/notebooks/data_table.ipynb>data table notebook</a>'\n",
              "            + ' to learn more about interactive tables.';\n",
              "          element.innerHTML = '';\n",
              "          dataTable['output_type'] = 'display_data';\n",
              "          await google.colab.output.renderOutput(dataTable, element);\n",
              "          const docLink = document.createElement('div');\n",
              "          docLink.innerHTML = docLinkHtml;\n",
              "          element.appendChild(docLink);\n",
              "        }\n",
              "      </script>\n",
              "    </div>\n",
              "  </div>\n",
              "  "
            ]
          },
          "metadata": {},
          "execution_count": 3
        }
      ]
    },
    {
      "cell_type": "code",
      "metadata": {
        "id": "14kGO5nkMGlV"
      },
      "source": [
        "X = df[['Manufacturing Cost']]\n",
        "y = df['Number of Units']"
      ],
      "execution_count": 4,
      "outputs": []
    },
    {
      "cell_type": "code",
      "source": [
        "X.shape"
      ],
      "metadata": {
        "id": "ksh_OrkjY3GW",
        "outputId": "bb61520e-605d-474a-b3d5-a8055334572c",
        "colab": {
          "base_uri": "https://localhost:8080/"
        }
      },
      "execution_count": 5,
      "outputs": [
        {
          "output_type": "execute_result",
          "data": {
            "text/plain": [
              "(1000, 1)"
            ]
          },
          "metadata": {},
          "execution_count": 5
        }
      ]
    },
    {
      "cell_type": "code",
      "source": [
        "y.describe"
      ],
      "metadata": {
        "colab": {
          "base_uri": "https://localhost:8080/"
        },
        "id": "bwR6SSqQDfC2",
        "outputId": "307ffc9c-196b-4bf1-b533-dc9709978b58"
      },
      "execution_count": 6,
      "outputs": [
        {
          "output_type": "execute_result",
          "data": {
            "text/plain": [
              "<bound method NDFrame.describe of 0       1.000000\n",
              "1       1.185994\n",
              "2       1.191499\n",
              "3       1.204771\n",
              "4       1.298773\n",
              "         ...    \n",
              "995     8.099710\n",
              "996     8.739752\n",
              "997     8.780888\n",
              "998     8.897700\n",
              "999    10.000000\n",
              "Name: Number of Units, Length: 1000, dtype: float64>"
            ]
          },
          "metadata": {},
          "execution_count": 6
        }
      ]
    },
    {
      "cell_type": "markdown",
      "source": [
        "**Ejercicio 1. Costo en la industria de manufactura. Ahora realizaremos los ejercicios de regresión utilizando una parte para entrenar y otra para evaluar.**\n",
        "\n",
        "a. Divide los datos del costo de manufactura. Utiliza la función train_test_split (viene el ejemplo al final del notebook)."
      ],
      "metadata": {
        "id": "qzl6cchDadPj"
      }
    },
    {
      "cell_type": "code",
      "source": [
        "from sklearn.model_selection import train_test_split\n",
        "X_train, X_test, y_train, y_test = train_test_split(X, y, test_size = 0.2, random_state = 3)\n",
        "\n",
        "print(f'Numero total de registros en la bdd: {len(X)}')\n",
        "print(\"*****\"*10)\n",
        "print(f'Numero total de registros en el training set: {len(X_train)}')\n",
        "print(f'Tamaño de X_train: {X_train.shape}')\n",
        "print(\"*****\"*10)\n",
        "print(f'Mumero total de registros en el test dataset: {len(X_test)}')\n",
        "print(f'Tamaño del X_test: {X_test.shape}')"
      ],
      "metadata": {
        "colab": {
          "base_uri": "https://localhost:8080/"
        },
        "id": "DsJeQ25Iacfz",
        "outputId": "9abdb4ec-bf03-46f4-cb65-c524a79e970e"
      },
      "execution_count": 7,
      "outputs": [
        {
          "output_type": "stream",
          "name": "stdout",
          "text": [
            "Numero total de registros en la bdd: 1000\n",
            "**************************************************\n",
            "Numero total de registros en el training set: 800\n",
            "Tamaño de X_train: (800, 1)\n",
            "**************************************************\n",
            "Mumero total de registros en el test dataset: 200\n",
            "Tamaño del X_test: (200, 1)\n"
          ]
        }
      ]
    },
    {
      "cell_type": "markdown",
      "source": [
        "b. Regresión Lineal.\n",
        "Realiza la regresión lineal: modelo generado (ecuación), su visualización, sus errores y r cuadrada."
      ],
      "metadata": {
        "id": "QxWfTQlIb2qs"
      }
    },
    {
      "cell_type": "code",
      "source": [
        "X_train.describe()"
      ],
      "metadata": {
        "colab": {
          "base_uri": "https://localhost:8080/",
          "height": 300
        },
        "id": "yWdrSNGRAdq6",
        "outputId": "d5c9f814-4498-492e-919f-33c0ab1276a6"
      },
      "execution_count": 8,
      "outputs": [
        {
          "output_type": "execute_result",
          "data": {
            "text/plain": [
              "       Manufacturing Cost\n",
              "count          800.000000\n",
              "mean            39.801758\n",
              "std             10.346161\n",
              "min             20.000000\n",
              "25%             32.729693\n",
              "50%             38.224781\n",
              "75%             44.332729\n",
              "max             98.777013"
            ],
            "text/html": [
              "\n",
              "  <div id=\"df-6500c6fa-3273-430f-b0e4-ba06a4c83cd7\">\n",
              "    <div class=\"colab-df-container\">\n",
              "      <div>\n",
              "<style scoped>\n",
              "    .dataframe tbody tr th:only-of-type {\n",
              "        vertical-align: middle;\n",
              "    }\n",
              "\n",
              "    .dataframe tbody tr th {\n",
              "        vertical-align: top;\n",
              "    }\n",
              "\n",
              "    .dataframe thead th {\n",
              "        text-align: right;\n",
              "    }\n",
              "</style>\n",
              "<table border=\"1\" class=\"dataframe\">\n",
              "  <thead>\n",
              "    <tr style=\"text-align: right;\">\n",
              "      <th></th>\n",
              "      <th>Manufacturing Cost</th>\n",
              "    </tr>\n",
              "  </thead>\n",
              "  <tbody>\n",
              "    <tr>\n",
              "      <th>count</th>\n",
              "      <td>800.000000</td>\n",
              "    </tr>\n",
              "    <tr>\n",
              "      <th>mean</th>\n",
              "      <td>39.801758</td>\n",
              "    </tr>\n",
              "    <tr>\n",
              "      <th>std</th>\n",
              "      <td>10.346161</td>\n",
              "    </tr>\n",
              "    <tr>\n",
              "      <th>min</th>\n",
              "      <td>20.000000</td>\n",
              "    </tr>\n",
              "    <tr>\n",
              "      <th>25%</th>\n",
              "      <td>32.729693</td>\n",
              "    </tr>\n",
              "    <tr>\n",
              "      <th>50%</th>\n",
              "      <td>38.224781</td>\n",
              "    </tr>\n",
              "    <tr>\n",
              "      <th>75%</th>\n",
              "      <td>44.332729</td>\n",
              "    </tr>\n",
              "    <tr>\n",
              "      <th>max</th>\n",
              "      <td>98.777013</td>\n",
              "    </tr>\n",
              "  </tbody>\n",
              "</table>\n",
              "</div>\n",
              "      <button class=\"colab-df-convert\" onclick=\"convertToInteractive('df-6500c6fa-3273-430f-b0e4-ba06a4c83cd7')\"\n",
              "              title=\"Convert this dataframe to an interactive table.\"\n",
              "              style=\"display:none;\">\n",
              "        \n",
              "  <svg xmlns=\"http://www.w3.org/2000/svg\" height=\"24px\"viewBox=\"0 0 24 24\"\n",
              "       width=\"24px\">\n",
              "    <path d=\"M0 0h24v24H0V0z\" fill=\"none\"/>\n",
              "    <path d=\"M18.56 5.44l.94 2.06.94-2.06 2.06-.94-2.06-.94-.94-2.06-.94 2.06-2.06.94zm-11 1L8.5 8.5l.94-2.06 2.06-.94-2.06-.94L8.5 2.5l-.94 2.06-2.06.94zm10 10l.94 2.06.94-2.06 2.06-.94-2.06-.94-.94-2.06-.94 2.06-2.06.94z\"/><path d=\"M17.41 7.96l-1.37-1.37c-.4-.4-.92-.59-1.43-.59-.52 0-1.04.2-1.43.59L10.3 9.45l-7.72 7.72c-.78.78-.78 2.05 0 2.83L4 21.41c.39.39.9.59 1.41.59.51 0 1.02-.2 1.41-.59l7.78-7.78 2.81-2.81c.8-.78.8-2.07 0-2.86zM5.41 20L4 18.59l7.72-7.72 1.47 1.35L5.41 20z\"/>\n",
              "  </svg>\n",
              "      </button>\n",
              "      \n",
              "  <style>\n",
              "    .colab-df-container {\n",
              "      display:flex;\n",
              "      flex-wrap:wrap;\n",
              "      gap: 12px;\n",
              "    }\n",
              "\n",
              "    .colab-df-convert {\n",
              "      background-color: #E8F0FE;\n",
              "      border: none;\n",
              "      border-radius: 50%;\n",
              "      cursor: pointer;\n",
              "      display: none;\n",
              "      fill: #1967D2;\n",
              "      height: 32px;\n",
              "      padding: 0 0 0 0;\n",
              "      width: 32px;\n",
              "    }\n",
              "\n",
              "    .colab-df-convert:hover {\n",
              "      background-color: #E2EBFA;\n",
              "      box-shadow: 0px 1px 2px rgba(60, 64, 67, 0.3), 0px 1px 3px 1px rgba(60, 64, 67, 0.15);\n",
              "      fill: #174EA6;\n",
              "    }\n",
              "\n",
              "    [theme=dark] .colab-df-convert {\n",
              "      background-color: #3B4455;\n",
              "      fill: #D2E3FC;\n",
              "    }\n",
              "\n",
              "    [theme=dark] .colab-df-convert:hover {\n",
              "      background-color: #434B5C;\n",
              "      box-shadow: 0px 1px 3px 1px rgba(0, 0, 0, 0.15);\n",
              "      filter: drop-shadow(0px 1px 2px rgba(0, 0, 0, 0.3));\n",
              "      fill: #FFFFFF;\n",
              "    }\n",
              "  </style>\n",
              "\n",
              "      <script>\n",
              "        const buttonEl =\n",
              "          document.querySelector('#df-6500c6fa-3273-430f-b0e4-ba06a4c83cd7 button.colab-df-convert');\n",
              "        buttonEl.style.display =\n",
              "          google.colab.kernel.accessAllowed ? 'block' : 'none';\n",
              "\n",
              "        async function convertToInteractive(key) {\n",
              "          const element = document.querySelector('#df-6500c6fa-3273-430f-b0e4-ba06a4c83cd7');\n",
              "          const dataTable =\n",
              "            await google.colab.kernel.invokeFunction('convertToInteractive',\n",
              "                                                     [key], {});\n",
              "          if (!dataTable) return;\n",
              "\n",
              "          const docLinkHtml = 'Like what you see? Visit the ' +\n",
              "            '<a target=\"_blank\" href=https://colab.research.google.com/notebooks/data_table.ipynb>data table notebook</a>'\n",
              "            + ' to learn more about interactive tables.';\n",
              "          element.innerHTML = '';\n",
              "          dataTable['output_type'] = 'display_data';\n",
              "          await google.colab.output.renderOutput(dataTable, element);\n",
              "          const docLink = document.createElement('div');\n",
              "          docLink.innerHTML = docLinkHtml;\n",
              "          element.appendChild(docLink);\n",
              "        }\n",
              "      </script>\n",
              "    </div>\n",
              "  </div>\n",
              "  "
            ]
          },
          "metadata": {},
          "execution_count": 8
        }
      ]
    },
    {
      "cell_type": "code",
      "source": [
        "#lineal\n",
        "linear_reg = LinearRegression(fit_intercept=True)\n",
        "linear_reg.fit(X_train, y_train)"
      ],
      "metadata": {
        "outputId": "9eaf8f8c-5429-479b-b64e-ed7ef8976645",
        "colab": {
          "base_uri": "https://localhost:8080/"
        },
        "id": "Io7h0cmbcKCg"
      },
      "execution_count": 11,
      "outputs": [
        {
          "output_type": "execute_result",
          "data": {
            "text/plain": [
              "LinearRegression()"
            ]
          },
          "metadata": {},
          "execution_count": 11
        }
      ]
    },
    {
      "cell_type": "code",
      "source": [
        "y_test"
      ],
      "metadata": {
        "colab": {
          "base_uri": "https://localhost:8080/"
        },
        "id": "IzEbvKUEBQRe",
        "outputId": "d203fe11-5189-4788-ca9e-4600963570a3"
      },
      "execution_count": 12,
      "outputs": [
        {
          "output_type": "execute_result",
          "data": {
            "text/plain": [
              "642    4.977296\n",
              "762    5.379111\n",
              "909    6.215400\n",
              "199    3.333153\n",
              "586    4.724777\n",
              "         ...   \n",
              "164    3.170540\n",
              "782    5.473178\n",
              "575    4.688092\n",
              "992    7.974248\n",
              "713    5.203777\n",
              "Name: Number of Units, Length: 200, dtype: float64"
            ]
          },
          "metadata": {},
          "execution_count": 12
        }
      ]
    },
    {
      "cell_type": "code",
      "source": [
        "y_pred = linear_reg.predict(X_test)"
      ],
      "metadata": {
        "id": "Y-DHyYA4cKCh"
      },
      "execution_count": 13,
      "outputs": []
    },
    {
      "cell_type": "code",
      "source": [
        "plt.plot(X_train, y_train, \"b.\")\n",
        "plt.plot(X_test, y_pred, \"r-\", linewidth=2, label=\"Predictions\")\n",
        "plt.xlabel(\"$x_1$\", fontsize=18)\n",
        "plt.ylabel(\"$y$\", rotation=0, fontsize=18)\n",
        "plt.legend(loc=\"upper left\", fontsize=14)\n",
        "plt.axis([0, 120, -2.5, 10])"
      ],
      "metadata": {
        "colab": {
          "base_uri": "https://localhost:8080/",
          "height": 308
        },
        "id": "HJqdJlZuaclN",
        "outputId": "1e20e782-35ad-4455-ff7c-8ba83aacdffc"
      },
      "execution_count": 14,
      "outputs": [
        {
          "output_type": "execute_result",
          "data": {
            "text/plain": [
              "(0.0, 120.0, -2.5, 10.0)"
            ]
          },
          "metadata": {},
          "execution_count": 14
        },
        {
          "output_type": "display_data",
          "data": {
            "text/plain": [
              "<Figure size 432x288 with 1 Axes>"
            ],
            "image/png": "[encoded data removed]"
          },
          "metadata": {
            "needs_background": "light"
          }
        }
      ]
    },
    {
      "cell_type": "code",
      "metadata": {
        "colab": {
          "base_uri": "https://localhost:8080/"
        },
        "outputId": "2cc580d7-2dbc-4948-9cea-2439c3e54f4a",
        "id": "d_2agQ5DcmU7"
      },
      "source": [
        "linear_reg.coef_, linear_reg.intercept_"
      ],
      "execution_count": 15,
      "outputs": [
        {
          "output_type": "execute_result",
          "data": {
            "text/plain": [
              "(array([-0.09903346]), 8.433867348371352)"
            ]
          },
          "metadata": {},
          "execution_count": 15
        }
      ]
    },
    {
      "cell_type": "markdown",
      "metadata": {
        "id": "uNDdse3wohYX"
      },
      "source": [
        "Ecuación del modelo lineal:\n",
        "\n",
        "$\\hat{y} = -0.10X + 8.43$"
      ]
    },
    {
      "cell_type": "code",
      "metadata": {
        "outputId": "b3d98517-ed04-45de-825e-27c8390c8906",
        "colab": {
          "base_uri": "https://localhost:8080/"
        },
        "id": "bbq7EuYrcKCi"
      },
      "source": [
        "from sklearn import metrics\n",
        "from sklearn.metrics import r2_score\n",
        "from sklearn.metrics import mean_absolute_error\n",
        "\n",
        "print('Error medio Absoluto (MAE): %0.2f' %metrics.mean_absolute_error(y_test, y_pred))\n",
        "print('Root Mean Squared Error: %0.2f' % np.sqrt(metrics.mean_squared_error(y_test, y_pred)))\n",
        "print('r2_score: %0.2f' % r2_score(y_test, y_pred))"
      ],
      "execution_count": 16,
      "outputs": [
        {
          "output_type": "stream",
          "name": "stdout",
          "text": [
            "Error medio Absoluto (MAE): 0.71\n",
            "Root Mean Squared Error: 0.93\n",
            "r2_score: 0.52\n"
          ]
        }
      ]
    },
    {
      "cell_type": "markdown",
      "source": [
        "c. Regresión Polinomial.\n",
        "Realiza la  regresión polinomial completa, tu modelo generado (ecuación), su visualización, sus errores y r cuadrada."
      ],
      "metadata": {
        "id": "Isd33l4QdwQK"
      }
    },
    {
      "cell_type": "code",
      "source": [
        "from sklearn.preprocessing import PolynomialFeatures\n",
        "\n",
        "poly_feat = PolynomialFeatures(degree=2, include_bias=False)\n",
        "X_poly = poly_feat.fit_transform(X_train)"
      ],
      "metadata": {
        "id": "Db0os0zAd5cL"
      },
      "execution_count": 23,
      "outputs": []
    },
    {
      "cell_type": "code",
      "source": [
        "lin_reg = LinearRegression()\n",
        "lin_reg.fit(X_poly, y_train)\n",
        "lin_reg.coef_, lin_reg.intercept_"
      ],
      "metadata": {
        "outputId": "20343eb5-af5b-4854-f9b0-fc4968db3e11",
        "colab": {
          "base_uri": "https://localhost:8080/"
        },
        "id": "cQ4KipMyd5cL"
      },
      "execution_count": 24,
      "outputs": [
        {
          "output_type": "execute_result",
          "data": {
            "text/plain": [
              "(array([-0.20510362,  0.00110418]), 10.788384638352419)"
            ]
          },
          "metadata": {},
          "execution_count": 24
        }
      ]
    },
    {
      "cell_type": "markdown",
      "source": [
        "Ecuación del modelo polinomial:\n",
        "\n",
        "$y = a_0 + a_1x + a_2x^2$\n",
        "\n",
        "$y = 10.788 - 0.21x + 0.001x^2$"
      ],
      "metadata": {
        "id": "4-UHAuhbz5PC"
      }
    },
    {
      "cell_type": "code",
      "source": [
        "X_new=np.linspace(0, 100, 200).reshape(200, 1)"
      ],
      "metadata": {
        "id": "KoncQlfbeu5n"
      },
      "execution_count": 25,
      "outputs": []
    },
    {
      "cell_type": "code",
      "source": [
        "from librosa.feature import poly_features\n",
        "\n",
        "X_new_poly = poly_feat.fit_transform(X_new)\n",
        "y_pred = lin_reg.predict(X_new_poly)\n"
      ],
      "metadata": {
        "id": "8J5kNnCvd5cM"
      },
      "execution_count": 27,
      "outputs": []
    },
    {
      "cell_type": "code",
      "source": [
        "plt.plot(X_train, y_train, \"b.\")\n",
        "plt.plot(X_new, y_pred, \"r-\", linewidth=2, label=\"Predictions\")\n",
        "plt.xlabel(\"$x_1$\", fontsize=18)\n",
        "plt.ylabel(\"$y$\", rotation=0, fontsize=18)\n",
        "plt.legend(loc=\"upper left\", fontsize=14)\n",
        "plt.axis([0, 120, 0, 10])"
      ],
      "metadata": {
        "outputId": "39165ff1-7438-4b65-8b4e-2fb93a01c432",
        "colab": {
          "base_uri": "https://localhost:8080/",
          "height": 308
        },
        "id": "uDSx66nVd5cM"
      },
      "execution_count": 28,
      "outputs": [
        {
          "output_type": "execute_result",
          "data": {
            "text/plain": [
              "(0.0, 120.0, 0.0, 10.0)"
            ]
          },
          "metadata": {},
          "execution_count": 28
        },
        {
          "output_type": "display_data",
          "data": {
            "text/plain": [
              "<Figure size 432x288 with 1 Axes>"
            ],
            "image/png": "[encoded data removed]"
          },
          "metadata": {
            "needs_background": "light"
          }
        }
      ]
    },
    {
      "cell_type": "code",
      "source": [
        "print('Error medio Absoluto (MAE): %0.2f' %metrics.mean_absolute_error(y_test, y_pred))\n",
        "print('Root Mean Squared Error: %0.2f' % np.sqrt(metrics.mean_squared_error(y_test, y_pred)))\n",
        "print('r2_score: %0.2f' % r2_score(y_test, y_pred))\n"
      ],
      "metadata": {
        "outputId": "e0a055bd-375c-4b2d-c360-07d381e5cf6a",
        "colab": {
          "base_uri": "https://localhost:8080/"
        },
        "id": "L2LReTIqd5cM"
      },
      "execution_count": 29,
      "outputs": [
        {
          "output_type": "stream",
          "name": "stdout",
          "text": [
            "Error medio Absoluto (MAE): 2.58\n",
            "Root Mean Squared Error: 3.03\n",
            "r2_score: -4.01\n"
          ]
        }
      ]
    },
    {
      "cell_type": "markdown",
      "source": [
        "d. Realiza la regresión con Ridge y Lasso. Incluye la ecuación de tu modelo, errores y r cuadrada."
      ],
      "metadata": {
        "id": "UJfNInyHo8d2"
      }
    },
    {
      "cell_type": "code",
      "source": [
        "from sklearn.impute import SimpleImputer\n",
        "from math import remainder\n",
        "from sklearn.pipeline import make_pipeline\n",
        "from sklearn.preprocessing import StandardScaler\n",
        "from sklearn.linear_model import Ridge\n"
      ],
      "metadata": {
        "id": "jSzAryNxTfrp"
      },
      "execution_count": 34,
      "outputs": []
    },
    {
      "cell_type": "code",
      "source": [
        "model = Ridge(alpha=0.1, solver=\"cholesky\")\n",
        "model.fit(X_train, y_train)\n",
        "model.intercept_, model.coef_ \n"
      ],
      "metadata": {
        "id": "OitgrzrIu0wH",
        "colab": {
          "base_uri": "https://localhost:8080/"
        },
        "outputId": "0239cafe-003c-4000-d2d8-ffb141957052"
      },
      "execution_count": 32,
      "outputs": [
        {
          "output_type": "execute_result",
          "data": {
            "text/plain": [
              "(8.433862739670946, array([-0.09903334]))"
            ]
          },
          "metadata": {},
          "execution_count": 32
        }
      ]
    },
    {
      "cell_type": "markdown",
      "metadata": {
        "id": "RpuIOunWz-xc"
      },
      "source": [
        "Ecuación del modelo Ridge:\n",
        "\n",
        "$\\hat{y} = -0.10X + 8.43$"
      ]
    },
    {
      "cell_type": "code",
      "source": [
        "X_new=np.linspace(0, 100, 200).reshape(200, 1)\n",
        "y_pred = model.predict(X_new)"
      ],
      "metadata": {
        "colab": {
          "base_uri": "https://localhost:8080/"
        },
        "id": "H8AO2M_rliZc",
        "outputId": "17872472-7258-4f6c-cb30-4d10c61d50b1"
      },
      "execution_count": 36,
      "outputs": [
        {
          "output_type": "stream",
          "name": "stderr",
          "text": [
            "/usr/local/lib/python3.7/dist-packages/sklearn/base.py:451: UserWarning: X does not have valid feature names, but Ridge was fitted with feature names\n",
            "  \"X does not have valid feature names, but\"\n"
          ]
        }
      ]
    },
    {
      "cell_type": "code",
      "source": [
        "print('Error medio Absoluto (MAE): %0.2f' %metrics.mean_absolute_error(y_test, y_pred))\n",
        "print('Root Mean Squared Error: %0.2f' % np.sqrt(metrics.mean_squared_error(y_test, y_pred)))\n",
        "print('r2_score: %0.2f' % r2_score(y_test, y_pred))"
      ],
      "metadata": {
        "id": "hQzkIlH0u0y_",
        "colab": {
          "base_uri": "https://localhost:8080/"
        },
        "outputId": "f95e0564-a0dd-4e30-98d5-59a007140d50"
      },
      "execution_count": 37,
      "outputs": [
        {
          "output_type": "stream",
          "name": "stdout",
          "text": [
            "Error medio Absoluto (MAE): 2.68\n",
            "Root Mean Squared Error: 3.19\n",
            "r2_score: -4.56\n"
          ]
        }
      ]
    },
    {
      "cell_type": "code",
      "source": [
        "plt.plot(X_train, y_train, \"b.\")\n",
        "plt.plot(X_new, y_pred, \"r-\", linewidth=2, label=\"Predictions\")\n",
        "plt.xlabel(\"$x_1$\", fontsize=18)\n",
        "plt.ylabel(\"$y$\", rotation=0, fontsize=18)\n",
        "plt.legend(loc=\"upper left\", fontsize=14)\n",
        "plt.axis([0, 120, 0, 10])"
      ],
      "metadata": {
        "id": "Rqp3BEhpSZyl",
        "colab": {
          "base_uri": "https://localhost:8080/",
          "height": 308
        },
        "outputId": "8999b075-7c46-4330-98a1-931b186255d5"
      },
      "execution_count": 38,
      "outputs": [
        {
          "output_type": "execute_result",
          "data": {
            "text/plain": [
              "(0.0, 120.0, 0.0, 10.0)"
            ]
          },
          "metadata": {},
          "execution_count": 38
        },
        {
          "output_type": "display_data",
          "data": {
            "text/plain": [
              "<Figure size 432x288 with 1 Axes>"
            ],
            "image/png": "[encoded data removed]"
          },
          "metadata": {
            "needs_background": "light"
          }
        }
      ]
    },
    {
      "cell_type": "markdown",
      "source": [
        "Repetimos el proceso con Lasso"
      ],
      "metadata": {
        "id": "Z2uE1EreRCqB"
      }
    },
    {
      "cell_type": "code",
      "source": [
        "from sklearn.linear_model import Lasso\n",
        "\n"
      ],
      "metadata": {
        "id": "xX-FArJuQ_OL"
      },
      "execution_count": 40,
      "outputs": []
    },
    {
      "cell_type": "code",
      "source": [
        "model = Lasso(alpha=0.1)\n",
        "model.fit(X_train, y_train)\n",
        "model.intercept_, model.coef_ "
      ],
      "metadata": {
        "id": "jE3sZuawQ_OT",
        "colab": {
          "base_uri": "https://localhost:8080/"
        },
        "outputId": "b729caee-3c70-4445-b4ed-1d5e9bf42a2e"
      },
      "execution_count": 41,
      "outputs": [
        {
          "output_type": "execute_result",
          "data": {
            "text/plain": [
              "(8.396637863375485, array([-0.09809809]))"
            ]
          },
          "metadata": {},
          "execution_count": 41
        }
      ]
    },
    {
      "cell_type": "markdown",
      "metadata": {
        "id": "u2Kqu5gQQ_OT"
      },
      "source": [
        "Ecuación del modelo Lasso:\n",
        "\n",
        "$\\hat{y} = -0.098X + 8.397$"
      ]
    },
    {
      "cell_type": "code",
      "source": [
        "X_new=np.linspace(0, 100, 200).reshape(200, 1)\n",
        "y_pred = model.predict(X_new)"
      ],
      "metadata": {
        "colab": {
          "base_uri": "https://localhost:8080/"
        },
        "id": "taqOiKTvmqDD",
        "outputId": "364632c8-909d-4480-eb07-0c94648467f6"
      },
      "execution_count": 42,
      "outputs": [
        {
          "output_type": "stream",
          "name": "stderr",
          "text": [
            "/usr/local/lib/python3.7/dist-packages/sklearn/base.py:451: UserWarning: X does not have valid feature names, but Lasso was fitted with feature names\n",
            "  \"X does not have valid feature names, but\"\n"
          ]
        }
      ]
    },
    {
      "cell_type": "code",
      "source": [
        "print('Error medio Absoluto (MAE): %0.2f' %metrics.mean_absolute_error(y_test, y_pred))\n",
        "print('Root Mean Squared Error: %0.2f' % np.sqrt(metrics.mean_squared_error(y_test, y_pred)))\n",
        "print('r2_score: %0.2f' % r2_score(y_test, y_pred))"
      ],
      "metadata": {
        "id": "Fmj7_D0zQ_OU",
        "colab": {
          "base_uri": "https://localhost:8080/"
        },
        "outputId": "910a37df-3788-44da-b1c3-a5481359c643"
      },
      "execution_count": 43,
      "outputs": [
        {
          "output_type": "stream",
          "name": "stdout",
          "text": [
            "Error medio Absoluto (MAE): 2.66\n",
            "Root Mean Squared Error: 3.16\n",
            "r2_score: -4.47\n"
          ]
        }
      ]
    },
    {
      "cell_type": "code",
      "source": [
        "plt.plot(X_train, y_train, \"b.\")\n",
        "plt.plot(X_new, y_pred, \"r-\", linewidth=2, label=\"Predictions\")\n",
        "plt.xlabel(\"$x_1$\", fontsize=18)\n",
        "plt.ylabel(\"$y$\", rotation=0, fontsize=18)\n",
        "plt.legend(loc=\"upper left\", fontsize=14)\n",
        "plt.axis([0, 120, 0, 10])"
      ],
      "metadata": {
        "id": "mH-duP4wSiBe",
        "colab": {
          "base_uri": "https://localhost:8080/",
          "height": 308
        },
        "outputId": "03fbf102-4cca-4abc-c17d-9f22b5f2519b"
      },
      "execution_count": 44,
      "outputs": [
        {
          "output_type": "execute_result",
          "data": {
            "text/plain": [
              "(0.0, 120.0, 0.0, 10.0)"
            ]
          },
          "metadata": {},
          "execution_count": 44
        },
        {
          "output_type": "display_data",
          "data": {
            "text/plain": [
              "<Figure size 432x288 with 1 Axes>"
            ],
            "image/png": "[encoded data removed]"
          },
          "metadata": {
            "needs_background": "light"
          }
        }
      ]
    },
    {
      "cell_type": "markdown",
      "source": [
        "Finalmente grafica :\n",
        "MAE (de los cuatro métodos)\n",
        "R2 (de los cuatro métodos)"
      ],
      "metadata": {
        "id": "E6gNx0rIm1Sn"
      }
    },
    {
      "cell_type": "markdown",
      "source": [
        "Gráficas de error MAE"
      ],
      "metadata": {
        "id": "t9lkKnBbxBS_"
      }
    },
    {
      "cell_type": "code",
      "source": [
        "def getModels():\n",
        "  modelos = list()\n",
        "  nombres = list()\n",
        "\n",
        "# Modelo de Regresión Lineal\n",
        "  modelos.append(LinearRegression())\n",
        "  nombres.append('Regresión Lineal')\n",
        "\n",
        "# Modelo para Ridge\n",
        "  modelos.append(Ridge())\n",
        "  nombres.append('Ridge')\n",
        "\n",
        "# Modelo para Lasso\n",
        "  modelos.append(Lasso())\n",
        "  nombres.append('Lasso')\n",
        "\n",
        "  return modelos, nombres\n"
      ],
      "metadata": {
        "id": "Y052VQRl0Mug"
      },
      "execution_count": 45,
      "outputs": []
    },
    {
      "cell_type": "code",
      "source": [
        "from sklearn.model_selection import learning_curve\n",
        "\n",
        "modelos, nombres = getModels()\n",
        "resultados = list()\n",
        "\n",
        "\n",
        "for i in range(len(modelos)):\n",
        "  train_sizes, train_scores, valid_scores = learning_curve(\n",
        "      modelos[i], X_train, y_train, train_sizes=np.linspace(0.01, 1.0, 40), cv=5,\n",
        "      scoring=\"neg_root_mean_squared_error\")\n",
        "  train_errors = -train_scores.mean(axis=1)\n",
        "  valid_errors = -valid_scores.mean(axis=1)\n",
        "\n",
        "  plt.plot(train_sizes, train_errors, \"r-+\", linewidth=2, label=\"train\")\n",
        "  plt.plot(train_sizes, valid_errors, \"b-\", linewidth=3, label=\"valid\")\n",
        "  plt.title(f'MAE para {nombres[i]}')\n",
        "  plt.xlabel('tamaño de muestra')\n",
        "  plt.ylabel(nombres[i])\n",
        "  plt.show()"
      ],
      "metadata": {
        "colab": {
          "base_uri": "https://localhost:8080/",
          "height": 851
        },
        "outputId": "c9385f5f-358f-465a-f369-32bc0a8ef89f",
        "id": "sZMK0Gn-0KwO"
      },
      "execution_count": 46,
      "outputs": [
        {
          "output_type": "display_data",
          "data": {
            "text/plain": [
              "<Figure size 432x288 with 1 Axes>"
            ],
            "image/png": "[encoded data removed]"
          },
          "metadata": {
            "needs_background": "light"
          }
        },
        {
          "output_type": "display_data",
          "data": {
            "text/plain": [
              "<Figure size 432x288 with 1 Axes>"
            ],
            "image/png": "[encoded data removed]"
          },
          "metadata": {
            "needs_background": "light"
          }
        },
        {
          "output_type": "display_data",
          "data": {
            "text/plain": [
              "<Figure size 432x288 with 1 Axes>"
            ],
            "image/png": "[encoded data removed]"
          },
          "metadata": {
            "needs_background": "light"
          }
        }
      ]
    },
    {
      "cell_type": "code",
      "source": [
        "  # Modelo polinomial\n",
        "\n",
        "train_sizes, train_scores, valid_scores = learning_curve(\n",
        "    LinearRegression(), X_poly, y_train, train_sizes=np.linspace(0.01, 1.0, 40), cv=5,\n",
        "    scoring=\"neg_root_mean_squared_error\")\n",
        "train_errors = -train_scores.mean(axis=1)\n",
        "valid_errors = -valid_scores.mean(axis=1)\n",
        "\n",
        "plt.plot(train_sizes, train_errors, \"r-+\", linewidth=2, label=\"train\")\n",
        "plt.plot(train_sizes, valid_errors, \"b-\", linewidth=3, label=\"valid\")\n",
        "plt.title('MAE para Regresión Polinomial')\n",
        "plt.xlabel('tamaño de muestra')\n",
        "plt.ylabel('MAE')\n",
        "plt.show()"
      ],
      "metadata": {
        "colab": {
          "base_uri": "https://localhost:8080/",
          "height": 295
        },
        "id": "YpW1qFaEwzop",
        "outputId": "3d4bbd2f-0de2-4012-9213-ad6b46cf696a"
      },
      "execution_count": 47,
      "outputs": [
        {
          "output_type": "display_data",
          "data": {
            "text/plain": [
              "<Figure size 432x288 with 1 Axes>"
            ],
            "image/png": "[encoded data removed]"
          },
          "metadata": {
            "needs_background": "light"
          }
        }
      ]
    },
    {
      "cell_type": "markdown",
      "source": [
        "Gráfica de R^2"
      ],
      "metadata": {
        "id": "eQJewEeLyxx7"
      }
    },
    {
      "cell_type": "code",
      "source": [
        "from sklearn.model_selection import learning_curve\n",
        "\n",
        "modelos, nombres = getModels()\n",
        "resultados = list()\n",
        "\n",
        "\n",
        "for i in range(len(modelos)):\n",
        "  train_sizes, train_scores, valid_scores = learning_curve(\n",
        "      modelos[i], X_train, y_train, train_sizes=np.linspace(0.01, 1.0, 40), cv=5,\n",
        "      scoring=\"r2\")\n",
        "  train_errors = -train_scores.mean(axis=1)\n",
        "  valid_errors = -valid_scores.mean(axis=1)\n",
        "\n",
        "  plt.plot(train_sizes, train_errors, \"r-+\", linewidth=2, label=\"train\")\n",
        "  plt.plot(train_sizes, valid_errors, \"b-\", linewidth=3, label=\"valid\")\n",
        "  plt.title(f'R^2 para {nombres[i]}')\n",
        "  plt.xlabel('tamaño de muestra')\n",
        "  plt.ylabel(nombres[i])\n",
        "  plt.legend(loc='best')\n",
        "  plt.show()\n"
      ],
      "metadata": {
        "id": "461sOcO-m2nN",
        "colab": {
          "base_uri": "https://localhost:8080/",
          "height": 851
        },
        "outputId": "77aa8d47-ad94-4d33-9999-db64f20637b2"
      },
      "execution_count": 48,
      "outputs": [
        {
          "output_type": "display_data",
          "data": {
            "text/plain": [
              "<Figure size 432x288 with 1 Axes>"
            ],
            "image/png": "[encoded data removed]"
          },
          "metadata": {
            "needs_background": "light"
          }
        },
        {
          "output_type": "display_data",
          "data": {
            "text/plain": [
              "<Figure size 432x288 with 1 Axes>"
            ],
            "image/png": "[encoded data removed]"
          },
          "metadata": {
            "needs_background": "light"
          }
        },
        {
          "output_type": "display_data",
          "data": {
            "text/plain": [
              "<Figure size 432x288 with 1 Axes>"
            ],
            "image/png": "[encoded data removed]"
          },
          "metadata": {
            "needs_background": "light"
          }
        }
      ]
    },
    {
      "cell_type": "code",
      "source": [
        "  # Modelo polinomial\n",
        "\n",
        "train_sizes, train_scores, valid_scores = learning_curve(\n",
        "    LinearRegression(), X_poly, y_train, train_sizes=np.linspace(0.01, 1.0, 40), cv=5,\n",
        "    scoring=\"r2\")\n",
        "train_errors = -train_scores.mean(axis=1)\n",
        "valid_errors = -valid_scores.mean(axis=1)\n",
        "\n",
        "plt.plot(train_sizes, train_errors, \"r-+\", linewidth=2, label=\"train\")\n",
        "plt.plot(train_sizes, valid_errors, \"b-\", linewidth=3, label=\"valid\")\n",
        "plt.title('R^2 para Regresión Polinomial')\n",
        "plt.xlabel('tamaño de muestra')\n",
        "plt.ylabel('R^2')\n",
        "plt.show()"
      ],
      "metadata": {
        "colab": {
          "base_uri": "https://localhost:8080/",
          "height": 295
        },
        "id": "ep-D-pMX3G_q",
        "outputId": "b69be06f-611d-40ad-e6c7-c65a76e7fc1f"
      },
      "execution_count": 49,
      "outputs": [
        {
          "output_type": "display_data",
          "data": {
            "text/plain": [
              "<Figure size 432x288 with 1 Axes>"
            ],
            "image/png": "[encoded data removed]"
          },
          "metadata": {
            "needs_background": "light"
          }
        }
      ]
    },
    {
      "cell_type": "markdown",
      "metadata": {
        "id": "CfqcmLmxLoe9"
      },
      "source": [
        "#Ejercicio 2\n",
        "Realiza la regresión polinomial de los siguientes datos:"
      ]
    },
    {
      "cell_type": "code",
      "source": [
        "df = pd.read_csv('https://raw.githubusercontent.com/marypazrf/bdd/main/kc_house_data.csv')\n",
        "df.sample(10)"
      ],
      "metadata": {
        "id": "57bn0j38qGrg",
        "colab": {
          "base_uri": "https://localhost:8080/",
          "height": 456
        },
        "outputId": "6d43cdbb-8c14-4f7f-920a-48ab72d8571d"
      },
      "execution_count": 50,
      "outputs": [
        {
          "output_type": "execute_result",
          "data": {
            "text/plain": [
              "               id             date      price  bedrooms  bathrooms  \\\n",
              "6506   1560930050  20150325T000000   557500.0         3       2.00   \n",
              "18426  6788201240  20150318T000000  1062500.0         4       2.75   \n",
              "20488  8691440220  20150202T000000  1289990.0         5       4.00   \n",
              "20294   301401410  20140722T000000   298000.0         3       2.50   \n",
              "9881   1995200338  20141029T000000   738000.0         4       2.50   \n",
              "9871   3856905185  20140624T000000   483000.0         2       1.75   \n",
              "2710   5016002180  20140708T000000   780000.0         2       2.50   \n",
              "10735  4443800505  20150507T000000   585000.0         3       1.50   \n",
              "13903  3630060150  20150401T000000   550000.0         3       2.50   \n",
              "10564  1921059045  20141107T000000   195000.0         2       1.00   \n",
              "\n",
              "       sqft_living  sqft_lot  floors  waterfront  view  ...  grade  \\\n",
              "6506          2510     35255     1.0           0     2  ...      9   \n",
              "18426         1590      6000     1.5           0     0  ...      8   \n",
              "20488         4360      8030     2.0           0     0  ...     10   \n",
              "20294         1852      4000     2.0           0     0  ...      7   \n",
              "9881          2830      5010     2.0           0     0  ...      9   \n",
              "9871          1240      3000     1.5           0     0  ...      7   \n",
              "2710          2560      2500     2.0           0     0  ...      8   \n",
              "10735         1810      3880     1.5           0     0  ...      8   \n",
              "13903         2080      2625     2.0           0     0  ...      8   \n",
              "10564         1280      7861     1.0           0     0  ...      6   \n",
              "\n",
              "       sqft_above  sqft_basement  yr_built  yr_renovated  zipcode      lat  \\\n",
              "6506         2510              0      1994             0    98038  47.4012   \n",
              "18426        1590              0      1925             0    98112  47.6401   \n",
              "20488        4360              0      2015             0    98075  47.5923   \n",
              "20294        1852              0      2014             0    98002  47.3455   \n",
              "9881         2170            660      2000             0    98115  47.6952   \n",
              "9871         1240              0      1906             0    98105  47.6689   \n",
              "2710         1690            870      1901             0    98112  47.6233   \n",
              "10735        1310            500      1929             0    98117  47.6835   \n",
              "13903        2080              0      2006             0    98029  47.5469   \n",
              "10564        1280              0      1913             0    98002  47.3007   \n",
              "\n",
              "          long  sqft_living15  sqft_lot15  \n",
              "6506  -122.025           3140       36450  \n",
              "18426 -122.299           1590        4000  \n",
              "20488 -121.973           3570        6185  \n",
              "20294 -122.210           2166        4000  \n",
              "9881  -122.327           1880        5739  \n",
              "9871  -122.326           1800        4080  \n",
              "2710  -122.300           1890        5000  \n",
              "10735 -122.392           1400        3880  \n",
              "13903 -121.997           1760        2772  \n",
              "10564 -122.228           1020        6480  \n",
              "\n",
              "[10 rows x 21 columns]"
            ],
            "text/html": [
              "\n",
              "  <div id=\"df-844d2129-af61-488e-b48b-965011cae067\">\n",
              "    <div class=\"colab-df-container\">\n",
              "      <div>\n",
              "<style scoped>\n",
              "    .dataframe tbody tr th:only-of-type {\n",
              "        vertical-align: middle;\n",
              "    }\n",
              "\n",
              "    .dataframe tbody tr th {\n",
              "        vertical-align: top;\n",
              "    }\n",
              "\n",
              "    .dataframe thead th {\n",
              "        text-align: right;\n",
              "    }\n",
              "</style>\n",
              "<table border=\"1\" class=\"dataframe\">\n",
              "  <thead>\n",
              "    <tr style=\"text-align: right;\">\n",
              "      <th></th>\n",
              "      <th>id</th>\n",
              "      <th>date</th>\n",
              "      <th>price</th>\n",
              "      <th>bedrooms</th>\n",
              "      <th>bathrooms</th>\n",
              "      <th>sqft_living</th>\n",
              "      <th>sqft_lot</th>\n",
              "      <th>floors</th>\n",
              "      <th>waterfront</th>\n",
              "      <th>view</th>\n",
              "      <th>...</th>\n",
              "      <th>grade</th>\n",
              "      <th>sqft_above</th>\n",
              "      <th>sqft_basement</th>\n",
              "      <th>yr_built</th>\n",
              "      <th>yr_renovated</th>\n",
              "      <th>zipcode</th>\n",
              "      <th>lat</th>\n",
              "      <th>long</th>\n",
              "      <th>sqft_living15</th>\n",
              "      <th>sqft_lot15</th>\n",
              "    </tr>\n",
              "  </thead>\n",
              "  <tbody>\n",
              "    <tr>\n",
              "      <th>6506</th>\n",
              "      <td>1560930050</td>\n",
              "      <td>20150325T000000</td>\n",
              "      <td>557500.0</td>\n",
              "      <td>3</td>\n",
              "      <td>2.00</td>\n",
              "      <td>2510</td>\n",
              "      <td>35255</td>\n",
              "      <td>1.0</td>\n",
              "      <td>0</td>\n",
              "      <td>2</td>\n",
              "      <td>...</td>\n",
              "      <td>9</td>\n",
              "      <td>2510</td>\n",
              "      <td>0</td>\n",
              "      <td>1994</td>\n",
              "      <td>0</td>\n",
              "      <td>98038</td>\n",
              "      <td>47.4012</td>\n",
              "      <td>-122.025</td>\n",
              "      <td>3140</td>\n",
              "      <td>36450</td>\n",
              "    </tr>\n",
              "    <tr>\n",
              "      <th>18426</th>\n",
              "      <td>6788201240</td>\n",
              "      <td>20150318T000000</td>\n",
              "      <td>1062500.0</td>\n",
              "      <td>4</td>\n",
              "      <td>2.75</td>\n",
              "      <td>1590</td>\n",
              "      <td>6000</td>\n",
              "      <td>1.5</td>\n",
              "      <td>0</td>\n",
              "      <td>0</td>\n",
              "      <td>...</td>\n",
              "      <td>8</td>\n",
              "      <td>1590</td>\n",
              "      <td>0</td>\n",
              "      <td>1925</td>\n",
              "      <td>0</td>\n",
              "      <td>98112</td>\n",
              "      <td>47.6401</td>\n",
              "      <td>-122.299</td>\n",
              "      <td>1590</td>\n",
              "      <td>4000</td>\n",
              "    </tr>\n",
              "    <tr>\n",
              "      <th>20488</th>\n",
              "      <td>8691440220</td>\n",
              "      <td>20150202T000000</td>\n",
              "      <td>1289990.0</td>\n",
              "      <td>5</td>\n",
              "      <td>4.00</td>\n",
              "      <td>4360</td>\n",
              "      <td>8030</td>\n",
              "      <td>2.0</td>\n",
              "      <td>0</td>\n",
              "      <td>0</td>\n",
              "      <td>...</td>\n",
              "      <td>10</td>\n",
              "      <td>4360</td>\n",
              "      <td>0</td>\n",
              "      <td>2015</td>\n",
              "      <td>0</td>\n",
              "      <td>98075</td>\n",
              "      <td>47.5923</td>\n",
              "      <td>-121.973</td>\n",
              "      <td>3570</td>\n",
              "      <td>6185</td>\n",
              "    </tr>\n",
              "    <tr>\n",
              "      <th>20294</th>\n",
              "      <td>301401410</td>\n",
              "      <td>20140722T000000</td>\n",
              "      <td>298000.0</td>\n",
              "      <td>3</td>\n",
              "      <td>2.50</td>\n",
              "      <td>1852</td>\n",
              "      <td>4000</td>\n",
              "      <td>2.0</td>\n",
              "      <td>0</td>\n",
              "      <td>0</td>\n",
              "      <td>...</td>\n",
              "      <td>7</td>\n",
              "      <td>1852</td>\n",
              "      <td>0</td>\n",
              "      <td>2014</td>\n",
              "      <td>0</td>\n",
              "      <td>98002</td>\n",
              "      <td>47.3455</td>\n",
              "      <td>-122.210</td>\n",
              "      <td>2166</td>\n",
              "      <td>4000</td>\n",
              "    </tr>\n",
              "    <tr>\n",
              "      <th>9881</th>\n",
              "      <td>1995200338</td>\n",
              "      <td>20141029T000000</td>\n",
              "      <td>738000.0</td>\n",
              "      <td>4</td>\n",
              "      <td>2.50</td>\n",
              "      <td>2830</td>\n",
              "      <td>5010</td>\n",
              "      <td>2.0</td>\n",
              "      <td>0</td>\n",
              "      <td>0</td>\n",
              "      <td>...</td>\n",
              "      <td>9</td>\n",
              "      <td>2170</td>\n",
              "      <td>660</td>\n",
              "      <td>2000</td>\n",
              "      <td>0</td>\n",
              "      <td>98115</td>\n",
              "      <td>47.6952</td>\n",
              "      <td>-122.327</td>\n",
              "      <td>1880</td>\n",
              "      <td>5739</td>\n",
              "    </tr>\n",
              "    <tr>\n",
              "      <th>9871</th>\n",
              "      <td>3856905185</td>\n",
              "      <td>20140624T000000</td>\n",
              "      <td>483000.0</td>\n",
              "      <td>2</td>\n",
              "      <td>1.75</td>\n",
              "      <td>1240</td>\n",
              "      <td>3000</td>\n",
              "      <td>1.5</td>\n",
              "      <td>0</td>\n",
              "      <td>0</td>\n",
              "      <td>...</td>\n",
              "      <td>7</td>\n",
              "      <td>1240</td>\n",
              "      <td>0</td>\n",
              "      <td>1906</td>\n",
              "      <td>0</td>\n",
              "      <td>98105</td>\n",
              "      <td>47.6689</td>\n",
              "      <td>-122.326</td>\n",
              "      <td>1800</td>\n",
              "      <td>4080</td>\n",
              "    </tr>\n",
              "    <tr>\n",
              "      <th>2710</th>\n",
              "      <td>5016002180</td>\n",
              "      <td>20140708T000000</td>\n",
              "      <td>780000.0</td>\n",
              "      <td>2</td>\n",
              "      <td>2.50</td>\n",
              "      <td>2560</td>\n",
              "      <td>2500</td>\n",
              "      <td>2.0</td>\n",
              "      <td>0</td>\n",
              "      <td>0</td>\n",
              "      <td>...</td>\n",
              "      <td>8</td>\n",
              "      <td>1690</td>\n",
              "      <td>870</td>\n",
              "      <td>1901</td>\n",
              "      <td>0</td>\n",
              "      <td>98112</td>\n",
              "      <td>47.6233</td>\n",
              "      <td>-122.300</td>\n",
              "      <td>1890</td>\n",
              "      <td>5000</td>\n",
              "    </tr>\n",
              "    <tr>\n",
              "      <th>10735</th>\n",
              "      <td>4443800505</td>\n",
              "      <td>20150507T000000</td>\n",
              "      <td>585000.0</td>\n",
              "      <td>3</td>\n",
              "      <td>1.50</td>\n",
              "      <td>1810</td>\n",
              "      <td>3880</td>\n",
              "      <td>1.5</td>\n",
              "      <td>0</td>\n",
              "      <td>0</td>\n",
              "      <td>...</td>\n",
              "      <td>8</td>\n",
              "      <td>1310</td>\n",
              "      <td>500</td>\n",
              "      <td>1929</td>\n",
              "      <td>0</td>\n",
              "      <td>98117</td>\n",
              "      <td>47.6835</td>\n",
              "      <td>-122.392</td>\n",
              "      <td>1400</td>\n",
              "      <td>3880</td>\n",
              "    </tr>\n",
              "    <tr>\n",
              "      <th>13903</th>\n",
              "      <td>3630060150</td>\n",
              "      <td>20150401T000000</td>\n",
              "      <td>550000.0</td>\n",
              "      <td>3</td>\n",
              "      <td>2.50</td>\n",
              "      <td>2080</td>\n",
              "      <td>2625</td>\n",
              "      <td>2.0</td>\n",
              "      <td>0</td>\n",
              "      <td>0</td>\n",
              "      <td>...</td>\n",
              "      <td>8</td>\n",
              "      <td>2080</td>\n",
              "      <td>0</td>\n",
              "      <td>2006</td>\n",
              "      <td>0</td>\n",
              "      <td>98029</td>\n",
              "      <td>47.5469</td>\n",
              "      <td>-121.997</td>\n",
              "      <td>1760</td>\n",
              "      <td>2772</td>\n",
              "    </tr>\n",
              "    <tr>\n",
              "      <th>10564</th>\n",
              "      <td>1921059045</td>\n",
              "      <td>20141107T000000</td>\n",
              "      <td>195000.0</td>\n",
              "      <td>2</td>\n",
              "      <td>1.00</td>\n",
              "      <td>1280</td>\n",
              "      <td>7861</td>\n",
              "      <td>1.0</td>\n",
              "      <td>0</td>\n",
              "      <td>0</td>\n",
              "      <td>...</td>\n",
              "      <td>6</td>\n",
              "      <td>1280</td>\n",
              "      <td>0</td>\n",
              "      <td>1913</td>\n",
              "      <td>0</td>\n",
              "      <td>98002</td>\n",
              "      <td>47.3007</td>\n",
              "      <td>-122.228</td>\n",
              "      <td>1020</td>\n",
              "      <td>6480</td>\n",
              "    </tr>\n",
              "  </tbody>\n",
              "</table>\n",
              "<p>10 rows × 21 columns</p>\n",
              "</div>\n",
              "      <button class=\"colab-df-convert\" onclick=\"convertToInteractive('df-844d2129-af61-488e-b48b-965011cae067')\"\n",
              "              title=\"Convert this dataframe to an interactive table.\"\n",
              "              style=\"display:none;\">\n",
              "        \n",
              "  <svg xmlns=\"http://www.w3.org/2000/svg\" height=\"24px\"viewBox=\"0 0 24 24\"\n",
              "       width=\"24px\">\n",
              "    <path d=\"M0 0h24v24H0V0z\" fill=\"none\"/>\n",
              "    <path d=\"M18.56 5.44l.94 2.06.94-2.06 2.06-.94-2.06-.94-.94-2.06-.94 2.06-2.06.94zm-11 1L8.5 8.5l.94-2.06 2.06-.94-2.06-.94L8.5 2.5l-.94 2.06-2.06.94zm10 10l.94 2.06.94-2.06 2.06-.94-2.06-.94-.94-2.06-.94 2.06-2.06.94z\"/><path d=\"M17.41 7.96l-1.37-1.37c-.4-.4-.92-.59-1.43-.59-.52 0-1.04.2-1.43.59L10.3 9.45l-7.72 7.72c-.78.78-.78 2.05 0 2.83L4 21.41c.39.39.9.59 1.41.59.51 0 1.02-.2 1.41-.59l7.78-7.78 2.81-2.81c.8-.78.8-2.07 0-2.86zM5.41 20L4 18.59l7.72-7.72 1.47 1.35L5.41 20z\"/>\n",
              "  </svg>\n",
              "      </button>\n",
              "      \n",
              "  <style>\n",
              "    .colab-df-container {\n",
              "      display:flex;\n",
              "      flex-wrap:wrap;\n",
              "      gap: 12px;\n",
              "    }\n",
              "\n",
              "    .colab-df-convert {\n",
              "      background-color: #E8F0FE;\n",
              "      border: none;\n",
              "      border-radius: 50%;\n",
              "      cursor: pointer;\n",
              "      display: none;\n",
              "      fill: #1967D2;\n",
              "      height: 32px;\n",
              "      padding: 0 0 0 0;\n",
              "      width: 32px;\n",
              "    }\n",
              "\n",
              "    .colab-df-convert:hover {\n",
              "      background-color: #E2EBFA;\n",
              "      box-shadow: 0px 1px 2px rgba(60, 64, 67, 0.3), 0px 1px 3px 1px rgba(60, 64, 67, 0.15);\n",
              "      fill: #174EA6;\n",
              "    }\n",
              "\n",
              "    [theme=dark] .colab-df-convert {\n",
              "      background-color: #3B4455;\n",
              "      fill: #D2E3FC;\n",
              "    }\n",
              "\n",
              "    [theme=dark] .colab-df-convert:hover {\n",
              "      background-color: #434B5C;\n",
              "      box-shadow: 0px 1px 3px 1px rgba(0, 0, 0, 0.15);\n",
              "      filter: drop-shadow(0px 1px 2px rgba(0, 0, 0, 0.3));\n",
              "      fill: #FFFFFF;\n",
              "    }\n",
              "  </style>\n",
              "\n",
              "      <script>\n",
              "        const buttonEl =\n",
              "          document.querySelector('#df-844d2129-af61-488e-b48b-965011cae067 button.colab-df-convert');\n",
              "        buttonEl.style.display =\n",
              "          google.colab.kernel.accessAllowed ? 'block' : 'none';\n",
              "\n",
              "        async function convertToInteractive(key) {\n",
              "          const element = document.querySelector('#df-844d2129-af61-488e-b48b-965011cae067');\n",
              "          const dataTable =\n",
              "            await google.colab.kernel.invokeFunction('convertToInteractive',\n",
              "                                                     [key], {});\n",
              "          if (!dataTable) return;\n",
              "\n",
              "          const docLinkHtml = 'Like what you see? Visit the ' +\n",
              "            '<a target=\"_blank\" href=https://colab.research.google.com/notebooks/data_table.ipynb>data table notebook</a>'\n",
              "            + ' to learn more about interactive tables.';\n",
              "          element.innerHTML = '';\n",
              "          dataTable['output_type'] = 'display_data';\n",
              "          await google.colab.output.renderOutput(dataTable, element);\n",
              "          const docLink = document.createElement('div');\n",
              "          docLink.innerHTML = docLinkHtml;\n",
              "          element.appendChild(docLink);\n",
              "        }\n",
              "      </script>\n",
              "    </div>\n",
              "  </div>\n",
              "  "
            ]
          },
          "metadata": {},
          "execution_count": 50
        }
      ]
    },
    {
      "cell_type": "code",
      "source": [
        "df.info()"
      ],
      "metadata": {
        "id": "n0fs14KoqI3M",
        "colab": {
          "base_uri": "https://localhost:8080/"
        },
        "outputId": "c0996c58-ae63-4f44-a693-2874349ae554"
      },
      "execution_count": 51,
      "outputs": [
        {
          "output_type": "stream",
          "name": "stdout",
          "text": [
            "<class 'pandas.core.frame.DataFrame'>\n",
            "RangeIndex: 21613 entries, 0 to 21612\n",
            "Data columns (total 21 columns):\n",
            " #   Column         Non-Null Count  Dtype  \n",
            "---  ------         --------------  -----  \n",
            " 0   id             21613 non-null  int64  \n",
            " 1   date           21613 non-null  object \n",
            " 2   price          21613 non-null  float64\n",
            " 3   bedrooms       21613 non-null  int64  \n",
            " 4   bathrooms      21613 non-null  float64\n",
            " 5   sqft_living    21613 non-null  int64  \n",
            " 6   sqft_lot       21613 non-null  int64  \n",
            " 7   floors         21613 non-null  float64\n",
            " 8   waterfront     21613 non-null  int64  \n",
            " 9   view           21613 non-null  int64  \n",
            " 10  condition      21613 non-null  int64  \n",
            " 11  grade          21613 non-null  int64  \n",
            " 12  sqft_above     21613 non-null  int64  \n",
            " 13  sqft_basement  21613 non-null  int64  \n",
            " 14  yr_built       21613 non-null  int64  \n",
            " 15  yr_renovated   21613 non-null  int64  \n",
            " 16  zipcode        21613 non-null  int64  \n",
            " 17  lat            21613 non-null  float64\n",
            " 18  long           21613 non-null  float64\n",
            " 19  sqft_living15  21613 non-null  int64  \n",
            " 20  sqft_lot15     21613 non-null  int64  \n",
            "dtypes: float64(5), int64(15), object(1)\n",
            "memory usage: 3.5+ MB\n"
          ]
        }
      ]
    },
    {
      "cell_type": "code",
      "source": [
        "df.describe()"
      ],
      "metadata": {
        "id": "1PNzDJZeqKhe",
        "colab": {
          "base_uri": "https://localhost:8080/",
          "height": 364
        },
        "outputId": "673b5508-e36b-49ca-ba9e-2b8e53b6484d"
      },
      "execution_count": 52,
      "outputs": [
        {
          "output_type": "execute_result",
          "data": {
            "text/plain": [
              "                 id         price      bedrooms     bathrooms   sqft_living  \\\n",
              "count  2.161300e+04  2.161300e+04  21613.000000  21613.000000  21613.000000   \n",
              "mean   4.580302e+09  5.400881e+05      3.370842      2.114757   2079.899736   \n",
              "std    2.876566e+09  3.671272e+05      0.930062      0.770163    918.440897   \n",
              "min    1.000102e+06  7.500000e+04      0.000000      0.000000    290.000000   \n",
              "25%    2.123049e+09  3.219500e+05      3.000000      1.750000   1427.000000   \n",
              "50%    3.904930e+09  4.500000e+05      3.000000      2.250000   1910.000000   \n",
              "75%    7.308900e+09  6.450000e+05      4.000000      2.500000   2550.000000   \n",
              "max    9.900000e+09  7.700000e+06     33.000000      8.000000  13540.000000   \n",
              "\n",
              "           sqft_lot        floors    waterfront          view     condition  \\\n",
              "count  2.161300e+04  21613.000000  21613.000000  21613.000000  21613.000000   \n",
              "mean   1.510697e+04      1.494309      0.007542      0.234303      3.409430   \n",
              "std    4.142051e+04      0.539989      0.086517      0.766318      0.650743   \n",
              "min    5.200000e+02      1.000000      0.000000      0.000000      1.000000   \n",
              "25%    5.040000e+03      1.000000      0.000000      0.000000      3.000000   \n",
              "50%    7.618000e+03      1.500000      0.000000      0.000000      3.000000   \n",
              "75%    1.068800e+04      2.000000      0.000000      0.000000      4.000000   \n",
              "max    1.651359e+06      3.500000      1.000000      4.000000      5.000000   \n",
              "\n",
              "              grade    sqft_above  sqft_basement      yr_built  yr_renovated  \\\n",
              "count  21613.000000  21613.000000   21613.000000  21613.000000  21613.000000   \n",
              "mean       7.656873   1788.390691     291.509045   1971.005136     84.402258   \n",
              "std        1.175459    828.090978     442.575043     29.373411    401.679240   \n",
              "min        1.000000    290.000000       0.000000   1900.000000      0.000000   \n",
              "25%        7.000000   1190.000000       0.000000   1951.000000      0.000000   \n",
              "50%        7.000000   1560.000000       0.000000   1975.000000      0.000000   \n",
              "75%        8.000000   2210.000000     560.000000   1997.000000      0.000000   \n",
              "max       13.000000   9410.000000    4820.000000   2015.000000   2015.000000   \n",
              "\n",
              "            zipcode           lat          long  sqft_living15     sqft_lot15  \n",
              "count  21613.000000  21613.000000  21613.000000   21613.000000   21613.000000  \n",
              "mean   98077.939805     47.560053   -122.213896    1986.552492   12768.455652  \n",
              "std       53.505026      0.138564      0.140828     685.391304   27304.179631  \n",
              "min    98001.000000     47.155900   -122.519000     399.000000     651.000000  \n",
              "25%    98033.000000     47.471000   -122.328000    1490.000000    5100.000000  \n",
              "50%    98065.000000     47.571800   -122.230000    1840.000000    7620.000000  \n",
              "75%    98118.000000     47.678000   -122.125000    2360.000000   10083.000000  \n",
              "max    98199.000000     47.777600   -121.315000    6210.000000  871200.000000  "
            ],
            "text/html": [
              "\n",
              "  <div id=\"df-c56e476b-0307-42c4-9a3d-ed192242c967\">\n",
              "    <div class=\"colab-df-container\">\n",
              "      <div>\n",
              "<style scoped>\n",
              "    .dataframe tbody tr th:only-of-type {\n",
              "        vertical-align: middle;\n",
              "    }\n",
              "\n",
              "    .dataframe tbody tr th {\n",
              "        vertical-align: top;\n",
              "    }\n",
              "\n",
              "    .dataframe thead th {\n",
              "        text-align: right;\n",
              "    }\n",
              "</style>\n",
              "<table border=\"1\" class=\"dataframe\">\n",
              "  <thead>\n",
              "    <tr style=\"text-align: right;\">\n",
              "      <th></th>\n",
              "      <th>id</th>\n",
              "      <th>price</th>\n",
              "      <th>bedrooms</th>\n",
              "      <th>bathrooms</th>\n",
              "      <th>sqft_living</th>\n",
              "      <th>sqft_lot</th>\n",
              "      <th>floors</th>\n",
              "      <th>waterfront</th>\n",
              "      <th>view</th>\n",
              "      <th>condition</th>\n",
              "      <th>grade</th>\n",
              "      <th>sqft_above</th>\n",
              "      <th>sqft_basement</th>\n",
              "      <th>yr_built</th>\n",
              "      <th>yr_renovated</th>\n",
              "      <th>zipcode</th>\n",
              "      <th>lat</th>\n",
              "      <th>long</th>\n",
              "      <th>sqft_living15</th>\n",
              "      <th>sqft_lot15</th>\n",
              "    </tr>\n",
              "  </thead>\n",
              "  <tbody>\n",
              "    <tr>\n",
              "      <th>count</th>\n",
              "      <td>2.161300e+04</td>\n",
              "      <td>2.161300e+04</td>\n",
              "      <td>21613.000000</td>\n",
              "      <td>21613.000000</td>\n",
              "      <td>21613.000000</td>\n",
              "      <td>2.161300e+04</td>\n",
              "      <td>21613.000000</td>\n",
              "      <td>21613.000000</td>\n",
              "      <td>21613.000000</td>\n",
              "      <td>21613.000000</td>\n",
              "      <td>21613.000000</td>\n",
              "      <td>21613.000000</td>\n",
              "      <td>21613.000000</td>\n",
              "      <td>21613.000000</td>\n",
              "      <td>21613.000000</td>\n",
              "      <td>21613.000000</td>\n",
              "      <td>21613.000000</td>\n",
              "      <td>21613.000000</td>\n",
              "      <td>21613.000000</td>\n",
              "      <td>21613.000000</td>\n",
              "    </tr>\n",
              "    <tr>\n",
              "      <th>mean</th>\n",
              "      <td>4.580302e+09</td>\n",
              "      <td>5.400881e+05</td>\n",
              "      <td>3.370842</td>\n",
              "      <td>2.114757</td>\n",
              "      <td>2079.899736</td>\n",
              "      <td>1.510697e+04</td>\n",
              "      <td>1.494309</td>\n",
              "      <td>0.007542</td>\n",
              "      <td>0.234303</td>\n",
              "      <td>3.409430</td>\n",
              "      <td>7.656873</td>\n",
              "      <td>1788.390691</td>\n",
              "      <td>291.509045</td>\n",
              "      <td>1971.005136</td>\n",
              "      <td>84.402258</td>\n",
              "      <td>98077.939805</td>\n",
              "      <td>47.560053</td>\n",
              "      <td>-122.213896</td>\n",
              "      <td>1986.552492</td>\n",
              "      <td>12768.455652</td>\n",
              "    </tr>\n",
              "    <tr>\n",
              "      <th>std</th>\n",
              "      <td>2.876566e+09</td>\n",
              "      <td>3.671272e+05</td>\n",
              "      <td>0.930062</td>\n",
              "      <td>0.770163</td>\n",
              "      <td>918.440897</td>\n",
              "      <td>4.142051e+04</td>\n",
              "      <td>0.539989</td>\n",
              "      <td>0.086517</td>\n",
              "      <td>0.766318</td>\n",
              "      <td>0.650743</td>\n",
              "      <td>1.175459</td>\n",
              "      <td>828.090978</td>\n",
              "      <td>442.575043</td>\n",
              "      <td>29.373411</td>\n",
              "      <td>401.679240</td>\n",
              "      <td>53.505026</td>\n",
              "      <td>0.138564</td>\n",
              "      <td>0.140828</td>\n",
              "      <td>685.391304</td>\n",
              "      <td>27304.179631</td>\n",
              "    </tr>\n",
              "    <tr>\n",
              "      <th>min</th>\n",
              "      <td>1.000102e+06</td>\n",
              "      <td>7.500000e+04</td>\n",
              "      <td>0.000000</td>\n",
              "      <td>0.000000</td>\n",
              "      <td>290.000000</td>\n",
              "      <td>5.200000e+02</td>\n",
              "      <td>1.000000</td>\n",
              "      <td>0.000000</td>\n",
              "      <td>0.000000</td>\n",
              "      <td>1.000000</td>\n",
              "      <td>1.000000</td>\n",
              "      <td>290.000000</td>\n",
              "      <td>0.000000</td>\n",
              "      <td>1900.000000</td>\n",
              "      <td>0.000000</td>\n",
              "      <td>98001.000000</td>\n",
              "      <td>47.155900</td>\n",
              "      <td>-122.519000</td>\n",
              "      <td>399.000000</td>\n",
              "      <td>651.000000</td>\n",
              "    </tr>\n",
              "    <tr>\n",
              "      <th>25%</th>\n",
              "      <td>2.123049e+09</td>\n",
              "      <td>3.219500e+05</td>\n",
              "      <td>3.000000</td>\n",
              "      <td>1.750000</td>\n",
              "      <td>1427.000000</td>\n",
              "      <td>5.040000e+03</td>\n",
              "      <td>1.000000</td>\n",
              "      <td>0.000000</td>\n",
              "      <td>0.000000</td>\n",
              "      <td>3.000000</td>\n",
              "      <td>7.000000</td>\n",
              "      <td>1190.000000</td>\n",
              "      <td>0.000000</td>\n",
              "      <td>1951.000000</td>\n",
              "      <td>0.000000</td>\n",
              "      <td>98033.000000</td>\n",
              "      <td>47.471000</td>\n",
              "      <td>-122.328000</td>\n",
              "      <td>1490.000000</td>\n",
              "      <td>5100.000000</td>\n",
              "    </tr>\n",
              "    <tr>\n",
              "      <th>50%</th>\n",
              "      <td>3.904930e+09</td>\n",
              "      <td>4.500000e+05</td>\n",
              "      <td>3.000000</td>\n",
              "      <td>2.250000</td>\n",
              "      <td>1910.000000</td>\n",
              "      <td>7.618000e+03</td>\n",
              "      <td>1.500000</td>\n",
              "      <td>0.000000</td>\n",
              "      <td>0.000000</td>\n",
              "      <td>3.000000</td>\n",
              "      <td>7.000000</td>\n",
              "      <td>1560.000000</td>\n",
              "      <td>0.000000</td>\n",
              "      <td>1975.000000</td>\n",
              "      <td>0.000000</td>\n",
              "      <td>98065.000000</td>\n",
              "      <td>47.571800</td>\n",
              "      <td>-122.230000</td>\n",
              "      <td>1840.000000</td>\n",
              "      <td>7620.000000</td>\n",
              "    </tr>\n",
              "    <tr>\n",
              "      <th>75%</th>\n",
              "      <td>7.308900e+09</td>\n",
              "      <td>6.450000e+05</td>\n",
              "      <td>4.000000</td>\n",
              "      <td>2.500000</td>\n",
              "      <td>2550.000000</td>\n",
              "      <td>1.068800e+04</td>\n",
              "      <td>2.000000</td>\n",
              "      <td>0.000000</td>\n",
              "      <td>0.000000</td>\n",
              "      <td>4.000000</td>\n",
              "      <td>8.000000</td>\n",
              "      <td>2210.000000</td>\n",
              "      <td>560.000000</td>\n",
              "      <td>1997.000000</td>\n",
              "      <td>0.000000</td>\n",
              "      <td>98118.000000</td>\n",
              "      <td>47.678000</td>\n",
              "      <td>-122.125000</td>\n",
              "      <td>2360.000000</td>\n",
              "      <td>10083.000000</td>\n",
              "    </tr>\n",
              "    <tr>\n",
              "      <th>max</th>\n",
              "      <td>9.900000e+09</td>\n",
              "      <td>7.700000e+06</td>\n",
              "      <td>33.000000</td>\n",
              "      <td>8.000000</td>\n",
              "      <td>13540.000000</td>\n",
              "      <td>1.651359e+06</td>\n",
              "      <td>3.500000</td>\n",
              "      <td>1.000000</td>\n",
              "      <td>4.000000</td>\n",
              "      <td>5.000000</td>\n",
              "      <td>13.000000</td>\n",
              "      <td>9410.000000</td>\n",
              "      <td>4820.000000</td>\n",
              "      <td>2015.000000</td>\n",
              "      <td>2015.000000</td>\n",
              "      <td>98199.000000</td>\n",
              "      <td>47.777600</td>\n",
              "      <td>-121.315000</td>\n",
              "      <td>6210.000000</td>\n",
              "      <td>871200.000000</td>\n",
              "    </tr>\n",
              "  </tbody>\n",
              "</table>\n",
              "</div>\n",
              "      <button class=\"colab-df-convert\" onclick=\"convertToInteractive('df-c56e476b-0307-42c4-9a3d-ed192242c967')\"\n",
              "              title=\"Convert this dataframe to an interactive table.\"\n",
              "              style=\"display:none;\">\n",
              "        \n",
              "  <svg xmlns=\"http://www.w3.org/2000/svg\" height=\"24px\"viewBox=\"0 0 24 24\"\n",
              "       width=\"24px\">\n",
              "    <path d=\"M0 0h24v24H0V0z\" fill=\"none\"/>\n",
              "    <path d=\"M18.56 5.44l.94 2.06.94-2.06 2.06-.94-2.06-.94-.94-2.06-.94 2.06-2.06.94zm-11 1L8.5 8.5l.94-2.06 2.06-.94-2.06-.94L8.5 2.5l-.94 2.06-2.06.94zm10 10l.94 2.06.94-2.06 2.06-.94-2.06-.94-.94-2.06-.94 2.06-2.06.94z\"/><path d=\"M17.41 7.96l-1.37-1.37c-.4-.4-.92-.59-1.43-.59-.52 0-1.04.2-1.43.59L10.3 9.45l-7.72 7.72c-.78.78-.78 2.05 0 2.83L4 21.41c.39.39.9.59 1.41.59.51 0 1.02-.2 1.41-.59l7.78-7.78 2.81-2.81c.8-.78.8-2.07 0-2.86zM5.41 20L4 18.59l7.72-7.72 1.47 1.35L5.41 20z\"/>\n",
              "  </svg>\n",
              "      </button>\n",
              "      \n",
              "  <style>\n",
              "    .colab-df-container {\n",
              "      display:flex;\n",
              "      flex-wrap:wrap;\n",
              "      gap: 12px;\n",
              "    }\n",
              "\n",
              "    .colab-df-convert {\n",
              "      background-color: #E8F0FE;\n",
              "      border: none;\n",
              "      border-radius: 50%;\n",
              "      cursor: pointer;\n",
              "      display: none;\n",
              "      fill: #1967D2;\n",
              "      height: 32px;\n",
              "      padding: 0 0 0 0;\n",
              "      width: 32px;\n",
              "    }\n",
              "\n",
              "    .colab-df-convert:hover {\n",
              "      background-color: #E2EBFA;\n",
              "      box-shadow: 0px 1px 2px rgba(60, 64, 67, 0.3), 0px 1px 3px 1px rgba(60, 64, 67, 0.15);\n",
              "      fill: #174EA6;\n",
              "    }\n",
              "\n",
              "    [theme=dark] .colab-df-convert {\n",
              "      background-color: #3B4455;\n",
              "      fill: #D2E3FC;\n",
              "    }\n",
              "\n",
              "    [theme=dark] .colab-df-convert:hover {\n",
              "      background-color: #434B5C;\n",
              "      box-shadow: 0px 1px 3px 1px rgba(0, 0, 0, 0.15);\n",
              "      filter: drop-shadow(0px 1px 2px rgba(0, 0, 0, 0.3));\n",
              "      fill: #FFFFFF;\n",
              "    }\n",
              "  </style>\n",
              "\n",
              "      <script>\n",
              "        const buttonEl =\n",
              "          document.querySelector('#df-c56e476b-0307-42c4-9a3d-ed192242c967 button.colab-df-convert');\n",
              "        buttonEl.style.display =\n",
              "          google.colab.kernel.accessAllowed ? 'block' : 'none';\n",
              "\n",
              "        async function convertToInteractive(key) {\n",
              "          const element = document.querySelector('#df-c56e476b-0307-42c4-9a3d-ed192242c967');\n",
              "          const dataTable =\n",
              "            await google.colab.kernel.invokeFunction('convertToInteractive',\n",
              "                                                     [key], {});\n",
              "          if (!dataTable) return;\n",
              "\n",
              "          const docLinkHtml = 'Like what you see? Visit the ' +\n",
              "            '<a target=\"_blank\" href=https://colab.research.google.com/notebooks/data_table.ipynb>data table notebook</a>'\n",
              "            + ' to learn more about interactive tables.';\n",
              "          element.innerHTML = '';\n",
              "          dataTable['output_type'] = 'display_data';\n",
              "          await google.colab.output.renderOutput(dataTable, element);\n",
              "          const docLink = document.createElement('div');\n",
              "          docLink.innerHTML = docLinkHtml;\n",
              "          element.appendChild(docLink);\n",
              "        }\n",
              "      </script>\n",
              "    </div>\n",
              "  </div>\n",
              "  "
            ]
          },
          "metadata": {},
          "execution_count": 52
        }
      ]
    },
    {
      "cell_type": "code",
      "source": [
        "df.drop('id', axis = 1, inplace = True)\n",
        "df.drop('date', axis = 1, inplace = True)\n",
        "df.drop('zipcode', axis = 1, inplace = True)\n",
        "df.drop('lat', axis = 1, inplace = True)\n",
        "df.drop('long', axis = 1, inplace = True)\n"
      ],
      "metadata": {
        "id": "0KUD8T08qMmq"
      },
      "execution_count": 53,
      "outputs": []
    },
    {
      "cell_type": "code",
      "source": [
        "plt.figure(figsize=(12,8)) \n",
        "sns.heatmap(df.corr(), annot=True, cmap='Dark2_r', linewidths = 2)\n",
        "plt.show()"
      ],
      "metadata": {
        "id": "r-jk_nHmqKpp",
        "colab": {
          "base_uri": "https://localhost:8080/",
          "height": 551
        },
        "outputId": "4f941dde-8df8-4e70-e97c-a095cc019994"
      },
      "execution_count": 54,
      "outputs": [
        {
          "output_type": "display_data",
          "data": {
            "text/plain": [
              "<Figure size 864x576 with 2 Axes>"
            ],
            "image/png": "[encoded data removed]"
          },
          "metadata": {
            "needs_background": "light"
          }
        }
      ]
    },
    {
      "cell_type": "code",
      "source": [
        "columns = df.columns.drop('price')\n",
        "\n",
        "features = columns\n",
        "label = ['price']\n",
        "\n",
        "X = df[features]\n",
        "y = df[label]"
      ],
      "metadata": {
        "id": "p4zqCnFwq7Oc"
      },
      "execution_count": 55,
      "outputs": []
    },
    {
      "cell_type": "code",
      "source": [
        "X=df[['bathrooms', 'sqft_living', 'grade']]"
      ],
      "metadata": {
        "id": "gW-Ht1i49km_"
      },
      "execution_count": 56,
      "outputs": []
    },
    {
      "cell_type": "markdown",
      "source": [
        "Ejercicio 2. Regresión múltiple.\n",
        "\n",
        "Encuentra el mejor regresor para los datos de las casas:\n",
        "\n",
        "a. Divide los datos. Utiliza la función train_test_split (ya esta en el notebook).\n"
      ],
      "metadata": {
        "id": "he8uxKRq3nGN"
      }
    },
    {
      "cell_type": "code",
      "source": [
        "from sklearn.model_selection import train_test_split\n",
        "X_train, X_test, y_train, y_test = train_test_split(X, y, test_size = 0.2, random_state = 101)\n",
        "\n",
        "print(f'Numero total de registros en la bdd: {len(X)}')\n",
        "print(\"*****\"*10)\n",
        "print(f'Numero total de registros en el training set: {len(X_train)}')\n",
        "print(f'Tamaño de X_train: {X_train.shape}')\n",
        "print(\"*****\"*10)\n",
        "print(f'Mumero total de registros en el test dataset: {len(X_test)}')\n",
        "print(f'Tamaño del X_test: {X_test.shape}')"
      ],
      "metadata": {
        "id": "p91PEVPLq93-",
        "colab": {
          "base_uri": "https://localhost:8080/"
        },
        "outputId": "54c470e7-ad89-455c-d34f-9eba6eea89b4"
      },
      "execution_count": 57,
      "outputs": [
        {
          "output_type": "stream",
          "name": "stdout",
          "text": [
            "Numero total de registros en la bdd: 21613\n",
            "**************************************************\n",
            "Numero total de registros en el training set: 17290\n",
            "Tamaño de X_train: (17290, 3)\n",
            "**************************************************\n",
            "Mumero total de registros en el test dataset: 4323\n",
            "Tamaño del X_test: (4323, 3)\n"
          ]
        }
      ]
    },
    {
      "cell_type": "markdown",
      "source": [
        "b. Regresión Múltiple Lineal.\n"
      ],
      "metadata": {
        "id": "tPrjaPOZ3v6-"
      }
    },
    {
      "cell_type": "markdown",
      "source": [
        "Realiza la regresión lineal: modelo generado (ecuación), sus errores y r cuadrada.\n"
      ],
      "metadata": {
        "id": "yKkEbnze3v9y"
      }
    },
    {
      "cell_type": "code",
      "source": [
        "\n",
        "linear_reg = LinearRegression(fit_intercept=True)\n",
        "linear_reg.fit(X_train, y_train)"
      ],
      "metadata": {
        "outputId": "2e4371c9-e60f-4fa4-a862-cfcd41776a19",
        "colab": {
          "base_uri": "https://localhost:8080/"
        },
        "id": "JP7pZQsc-L25"
      },
      "execution_count": 58,
      "outputs": [
        {
          "output_type": "execute_result",
          "data": {
            "text/plain": [
              "LinearRegression()"
            ]
          },
          "metadata": {},
          "execution_count": 58
        }
      ]
    },
    {
      "cell_type": "code",
      "source": [
        "linear_reg.coef_, linear_reg.intercept_"
      ],
      "metadata": {
        "colab": {
          "base_uri": "https://localhost:8080/"
        },
        "id": "mDH-ziyU-XwV",
        "outputId": "713c3518-f326-4609-b531-81584584027e"
      },
      "execution_count": 59,
      "outputs": [
        {
          "output_type": "execute_result",
          "data": {
            "text/plain": [
              "(array([[-41253.27951961,    203.34039384, 105804.39693117]]),\n",
              " array([-605139.14633053]))"
            ]
          },
          "metadata": {},
          "execution_count": 59
        }
      ]
    },
    {
      "cell_type": "markdown",
      "source": [
        "Ecuación del modelo de regresión lineal múltiple:\n",
        "\n",
        "$y = a_0 + a_1x_1 + a_2x_2 + a_3x_3$\n",
        "\n",
        "$y = -605139.1463 - 41253.28x_1 + 203.34x_2 + 105804.40x_3$"
      ],
      "metadata": {
        "id": "Bbcddq_wARNd"
      }
    },
    {
      "cell_type": "code",
      "source": [
        "y_pred = linear_reg.predict(X_test)"
      ],
      "metadata": {
        "id": "1feisows-L26"
      },
      "execution_count": 60,
      "outputs": []
    },
    {
      "cell_type": "code",
      "source": [
        "print('Error medio Absoluto (MAE): %0.2f' %metrics.mean_absolute_error(y_test, y_pred))\n",
        "print('Root Mean Squared Error: %0.2f' % np.sqrt(metrics.mean_squared_error(y_test, y_pred)))\n",
        "print('r2_score: %0.2f' % r2_score(y_test, y_pred))"
      ],
      "metadata": {
        "colab": {
          "base_uri": "https://localhost:8080/"
        },
        "id": "jUZoVPQs4N_h",
        "outputId": "eec51daf-8318-429b-8343-f459c9ed2220"
      },
      "execution_count": 61,
      "outputs": [
        {
          "output_type": "stream",
          "name": "stdout",
          "text": [
            "Error medio Absoluto (MAE): 161300.01\n",
            "Root Mean Squared Error: 249473.56\n",
            "r2_score: 0.54\n"
          ]
        }
      ]
    },
    {
      "cell_type": "markdown",
      "source": [
        "c. Regresión Múltiple Polinomial.\n"
      ],
      "metadata": {
        "id": "SoFzXdu73wAI"
      }
    },
    {
      "cell_type": "markdown",
      "source": [
        "Realiza la regresión polinomial completa, tu modelo generado (ecuación), sus errores y r cuadrada.\n"
      ],
      "metadata": {
        "id": "6GOWIh-R3wC4"
      }
    },
    {
      "cell_type": "code",
      "metadata": {
        "id": "miqSCtRJDH9k"
      },
      "source": [
        "from sklearn.preprocessing import PolynomialFeatures\n",
        "\n",
        "poly_features = PolynomialFeatures(degree=2, include_bias=False)\n",
        "X_poly = poly_features.fit_transform(X_train)"
      ],
      "execution_count": 62,
      "outputs": []
    },
    {
      "cell_type": "code",
      "metadata": {
        "colab": {
          "base_uri": "https://localhost:8080/"
        },
        "outputId": "7efcbddf-9df0-47b4-beb2-81805bd712a1",
        "id": "lxK5YEXHDH9l"
      },
      "source": [
        "lin_reg = LinearRegression(fit_intercept=True)\n",
        "lin_reg.fit(X_poly, y_train)\n",
        "lin_reg.coef_, lin_reg.intercept_"
      ],
      "execution_count": 63,
      "outputs": [
        {
          "output_type": "execute_result",
          "data": {
            "text/plain": [
              "(array([[-1.97692204e+05, -1.22529685e+02, -3.22848985e+04,\n",
              "          2.82729772e+04, -3.11458788e+01,  1.66299051e+04,\n",
              "          1.68979129e-02,  3.27313330e+01,  1.88167304e+03]]),\n",
              " array([443757.98420808]))"
            ]
          },
          "metadata": {},
          "execution_count": 63
        }
      ]
    },
    {
      "cell_type": "markdown",
      "source": [
        "Ecuación del modelo de regresión polinomial múltiple\n",
        "\n",
        "$\\hat{y} = 443757.98 + -1.98x_1 - 1.23x_2^2 - 3.23x_3^3$..."
      ],
      "metadata": {
        "id": "3w5NZlsdD39G"
      }
    },
    {
      "cell_type": "code",
      "source": [
        "X_poly_test = poly_features.fit_transform(X_test)"
      ],
      "metadata": {
        "id": "A5tjZvwwDg0G"
      },
      "execution_count": 64,
      "outputs": []
    },
    {
      "cell_type": "code",
      "source": [
        "y_pred = lin_reg.predict(X_poly_test)"
      ],
      "metadata": {
        "id": "u1mRQgvFDV_k"
      },
      "execution_count": 65,
      "outputs": []
    },
    {
      "cell_type": "code",
      "source": [
        "print('Error medio Absoluto (MAE): %0.2f' %metrics.mean_absolute_error(y_test, y_pred))\n",
        "print('Root Mean Squared Error: %0.2f' % np.sqrt(metrics.mean_squared_error(y_test, y_pred)))\n",
        "print('r2_score: %0.2f' % r2_score(y_test, y_pred))"
      ],
      "metadata": {
        "colab": {
          "base_uri": "https://localhost:8080/"
        },
        "outputId": "489ddbb4-6452-4b6b-b4f9-5cb00adc1da1",
        "id": "Fc6I-EgpDV_k"
      },
      "execution_count": 66,
      "outputs": [
        {
          "output_type": "stream",
          "name": "stdout",
          "text": [
            "Error medio Absoluto (MAE): 149843.55\n",
            "Root Mean Squared Error: 226161.19\n",
            "r2_score: 0.63\n"
          ]
        }
      ]
    },
    {
      "cell_type": "markdown",
      "source": [
        "f. Realiza la regresión con Ridge y Lasso. Incluye la ecuación de tu modelo, errores y r cuadrada."
      ],
      "metadata": {
        "id": "9cAwBPVR3wFC"
      }
    },
    {
      "cell_type": "code",
      "source": [
        "model = Ridge(alpha=0.1, solver=\"cholesky\")\n",
        "model.fit(X_train, y_train)\n",
        "model.intercept_, model.coef_ \n"
      ],
      "metadata": {
        "colab": {
          "base_uri": "https://localhost:8080/"
        },
        "outputId": "0aeb116b-c67c-4121-c822-3b1d6de976fa",
        "id": "EdlXMMElGZSb"
      },
      "execution_count": 67,
      "outputs": [
        {
          "output_type": "execute_result",
          "data": {
            "text/plain": [
              "(array([-605133.24714532]),\n",
              " array([[-41251.96224322,    203.34075994, 105803.16268431]]))"
            ]
          },
          "metadata": {},
          "execution_count": 67
        }
      ]
    },
    {
      "cell_type": "markdown",
      "source": [
        "Ecuación del modelo de regresión lineal múltiple Ridge:\n",
        "\n",
        "$y = a_0 + a_1x_1 + a_2x_2 + a_3x_3$\n",
        "\n",
        "$y = -605133.24 - 41251.96x_1 + 203.34x_2 + 105803.16x_3$"
      ],
      "metadata": {
        "id": "DhMi7SLDGhrM"
      }
    },
    {
      "cell_type": "code",
      "source": [
        "#X_new=np.linspace(0, 100, 200).reshape(200, 1)\n",
        "y_pred = model.predict(X_test)"
      ],
      "metadata": {
        "id": "ZEG3EuQAGZSd"
      },
      "execution_count": 68,
      "outputs": []
    },
    {
      "cell_type": "code",
      "source": [
        "print('Error medio Absoluto (MAE): %0.2f' %metrics.mean_absolute_error(y_test, y_pred))\n",
        "print('Root Mean Squared Error: %0.2f' % np.sqrt(metrics.mean_squared_error(y_test, y_pred)))\n",
        "print('r2_score: %0.2f' % r2_score(y_test, y_pred))"
      ],
      "metadata": {
        "colab": {
          "base_uri": "https://localhost:8080/"
        },
        "outputId": "14f9bfcd-4b64-4548-f867-74c73d86179f",
        "id": "nmVlyiHpGZSd"
      },
      "execution_count": 69,
      "outputs": [
        {
          "output_type": "stream",
          "name": "stdout",
          "text": [
            "Error medio Absoluto (MAE): 161300.00\n",
            "Root Mean Squared Error: 249473.52\n",
            "r2_score: 0.54\n"
          ]
        }
      ]
    },
    {
      "cell_type": "code",
      "source": [
        "model = Ridge(alpha=0.1)\n",
        "model.fit(X_train, y_train)\n",
        "model.intercept_, model.coef_ "
      ],
      "metadata": {
        "colab": {
          "base_uri": "https://localhost:8080/"
        },
        "id": "gzcHgxzmGZSd",
        "outputId": "19819d1a-0996-474e-c22f-92742e8d7031"
      },
      "execution_count": 70,
      "outputs": [
        {
          "output_type": "execute_result",
          "data": {
            "text/plain": [
              "(array([-605133.24714532]),\n",
              " array([[-41251.96224322,    203.34075994, 105803.16268431]]))"
            ]
          },
          "metadata": {},
          "execution_count": 70
        }
      ]
    },
    {
      "cell_type": "markdown",
      "source": [
        "Ecuación del modelo de regresión lineal múltiple Lasso:\n",
        "\n",
        "$y = a_0 + a_1x_1 + a_2x_2 + a_3x_3$\n",
        "\n",
        "$y = -605133.24 - 41251.96x_1 + 203.34x_2 + 105803.16x_3$"
      ],
      "metadata": {
        "id": "_tynz_B7HRxD"
      }
    },
    {
      "cell_type": "code",
      "source": [
        "#X_new=np.linspace(0, 100, 200).reshape(200, 1)\n",
        "y_pred = model.predict(X_test)"
      ],
      "metadata": {
        "id": "iAfuE8gyGZSd"
      },
      "execution_count": 71,
      "outputs": []
    },
    {
      "cell_type": "code",
      "source": [
        "print('Error medio Absoluto (MAE): %0.2f' %metrics.mean_absolute_error(y_test, y_pred))\n",
        "print('Root Mean Squared Error: %0.2f' % np.sqrt(metrics.mean_squared_error(y_test, y_pred)))\n",
        "print('r2_score: %0.2f' % r2_score(y_test, y_pred))"
      ],
      "metadata": {
        "colab": {
          "base_uri": "https://localhost:8080/"
        },
        "outputId": "70b6a051-beee-4c52-822a-26eadcaae75c",
        "id": "NoQ14Y8GGZSe"
      },
      "execution_count": 72,
      "outputs": [
        {
          "output_type": "stream",
          "name": "stdout",
          "text": [
            "Error medio Absoluto (MAE): 161300.00\n",
            "Root Mean Squared Error: 249473.52\n",
            "r2_score: 0.54\n"
          ]
        }
      ]
    },
    {
      "cell_type": "markdown",
      "source": [
        "h. Finalmente gráfica :\n",
        "MAE (de los cuatro métodos)\n",
        "R2 (de los cuatro métodos)\n"
      ],
      "metadata": {
        "id": "03CA1meQ35iR"
      }
    },
    {
      "cell_type": "code",
      "source": [
        "from sklearn.model_selection import learning_curve\n",
        "\n",
        "modelos, nombres = getModels()\n",
        "resultados = list()\n",
        "\n",
        "\n",
        "for i in range(len(modelos)):\n",
        "  train_sizes, train_scores, valid_scores = learning_curve(\n",
        "      modelos[i], X_train, y_train, train_sizes=np.linspace(0.01, 1.0, 40), cv=5,\n",
        "      scoring=\"neg_root_mean_squared_error\")\n",
        "  train_errors = -train_scores.mean(axis=1)\n",
        "  valid_errors = -valid_scores.mean(axis=1)\n",
        "\n",
        "  plt.plot(train_sizes, train_errors, \"r-+\", linewidth=2, label=\"train\")\n",
        "  plt.plot(train_sizes, valid_errors, \"b-\", linewidth=3, label=\"valid\")\n",
        "  plt.title(f'MAE para {nombres[i]}')\n",
        "  plt.xlabel('tamaño de muestra')\n",
        "  plt.ylabel(nombres[i])\n",
        "  plt.legend(loc='best')\n",
        "  plt.show()"
      ],
      "metadata": {
        "colab": {
          "base_uri": "https://localhost:8080/",
          "height": 851
        },
        "id": "q9Mqp805GFrc",
        "outputId": "a12c5bae-4f5d-4020-a893-62c05396c221"
      },
      "execution_count": 73,
      "outputs": [
        {
          "output_type": "display_data",
          "data": {
            "text/plain": [
              "<Figure size 432x288 with 1 Axes>"
            ],
            "image/png": "[encoded data removed]"
          },
          "metadata": {
            "needs_background": "light"
          }
        },
        {
          "output_type": "display_data",
          "data": {
            "text/plain": [
              "<Figure size 432x288 with 1 Axes>"
            ],
            "image/png": "[encoded data removed]"
          },
          "metadata": {
            "needs_background": "light"
          }
        },
        {
          "output_type": "display_data",
          "data": {
            "text/plain": [
              "<Figure size 432x288 with 1 Axes>"
            ],
            "image/png": "[encoded data removed]"
          },
          "metadata": {
            "needs_background": "light"
          }
        }
      ]
    },
    {
      "cell_type": "code",
      "source": [
        "  # Modelo polinomial\n",
        "\n",
        "train_sizes, train_scores, valid_scores = learning_curve(\n",
        "    LinearRegression(), X_poly, y_train, train_sizes=np.linspace(0.01, 1.0, 40), cv=5,\n",
        "    scoring=\"neg_root_mean_squared_error\")\n",
        "train_errors = -train_scores.mean(axis=1)\n",
        "valid_errors = -valid_scores.mean(axis=1)\n",
        "\n",
        "plt.plot(train_sizes, train_errors, \"r-+\", linewidth=2, label=\"train\")\n",
        "plt.plot(train_sizes, valid_errors, \"b-\", linewidth=3, label=\"valid\")\n",
        "plt.title('MAE para Regresión Polinomial')\n",
        "plt.xlabel('tamaño de muestra')\n",
        "plt.ylabel('MAE')\n",
        "plt.legend(loc='best')\n",
        "plt.show()"
      ],
      "metadata": {
        "colab": {
          "base_uri": "https://localhost:8080/",
          "height": 295
        },
        "id": "xKj9fACGHegx",
        "outputId": "16957917-1aa4-489f-e4ac-ee0939901a10"
      },
      "execution_count": 74,
      "outputs": [
        {
          "output_type": "display_data",
          "data": {
            "text/plain": [
              "<Figure size 432x288 with 1 Axes>"
            ],
            "image/png": "[encoded data removed]"
          },
          "metadata": {
            "needs_background": "light"
          }
        }
      ]
    },
    {
      "cell_type": "markdown",
      "source": [
        "Gráficas de Error R^2"
      ],
      "metadata": {
        "id": "_JGLPJqpIH1d"
      }
    },
    {
      "cell_type": "code",
      "source": [
        "from sklearn.model_selection import learning_curve\n",
        "\n",
        "modelos, nombres = getModels()\n",
        "resultados = list()\n",
        "\n",
        "\n",
        "for i in range(len(modelos)):\n",
        "  train_sizes, train_scores, valid_scores = learning_curve(\n",
        "      modelos[i], X_train, y_train, train_sizes=np.linspace(0.01, 1.0, 40), cv=5,\n",
        "      scoring=\"r2\")\n",
        "  train_errors = -train_scores.mean(axis=1)\n",
        "  valid_errors = -valid_scores.mean(axis=1)\n",
        "\n",
        "  plt.plot(train_sizes, train_errors, \"r-+\", linewidth=2, label=\"train\")\n",
        "  plt.plot(train_sizes, valid_errors, \"b-\", linewidth=3, label=\"valid\")\n",
        "  plt.title(f'R^2 para {nombres[i]}')\n",
        "  plt.xlabel('tamaño de muestra')\n",
        "  plt.ylabel(nombres[i])\n",
        "  plt.legend(loc='best')\n",
        "  plt.show()\n"
      ],
      "metadata": {
        "colab": {
          "base_uri": "https://localhost:8080/",
          "height": 851
        },
        "outputId": "a2115e5a-3945-4f1c-c2ea-a8f598a4877c",
        "id": "zyLTCeXJIEeZ"
      },
      "execution_count": 75,
      "outputs": [
        {
          "output_type": "display_data",
          "data": {
            "text/plain": [
              "<Figure size 432x288 with 1 Axes>"
            ],
            "image/png": "[encoded data removed]"
          },
          "metadata": {
            "needs_background": "light"
          }
        },
        {
          "output_type": "display_data",
          "data": {
            "text/plain": [
              "<Figure size 432x288 with 1 Axes>"
            ],
            "image/png": "[encoded data removed]"
          },
          "metadata": {
            "needs_background": "light"
          }
        },
        {
          "output_type": "display_data",
          "data": {
            "text/plain": [
              "<Figure size 432x288 with 1 Axes>"
            ],
            "image/png": "[encoded data removed]"
          },
          "metadata": {
            "needs_background": "light"
          }
        }
      ]
    },
    {
      "cell_type": "code",
      "source": [
        "  # Modelo polinomial\n",
        "\n",
        "train_sizes, train_scores, valid_scores = learning_curve(\n",
        "    LinearRegression(), X_poly, y_train, train_sizes=np.linspace(0.01, 1.0, 40), cv=5,\n",
        "    scoring=\"r2\")\n",
        "train_errors = -train_scores.mean(axis=1)\n",
        "valid_errors = -valid_scores.mean(axis=1)\n",
        "\n",
        "plt.plot(train_sizes, train_errors, \"r-+\", linewidth=2, label=\"train\")\n",
        "plt.plot(train_sizes, valid_errors, \"b-\", linewidth=3, label=\"valid\")\n",
        "plt.title('R^2 para Regresión Polinomial')\n",
        "plt.xlabel('tamaño de muestra')\n",
        "plt.legend(loc='best')\n",
        "plt.ylabel('R^2')\n",
        "plt.show()"
      ],
      "metadata": {
        "colab": {
          "base_uri": "https://localhost:8080/",
          "height": 295
        },
        "outputId": "69896cf4-c5ba-49ad-d2b2-91bd1112308c",
        "id": "R1A-k5fwIEeZ"
      },
      "execution_count": 76,
      "outputs": [
        {
          "output_type": "display_data",
          "data": {
            "text/plain": [
              "<Figure size 432x288 with 1 Axes>"
            ],
            "image/png": "[encoded data removed]"
          },
          "metadata": {
            "needs_background": "light"
          }
        }
      ]
    },
    {
      "cell_type": "code",
      "source": [],
      "metadata": {
        "id": "PawISq37Hemr"
      },
      "execution_count": 76,
      "outputs": []
    },
    {
      "cell_type": "code",
      "source": [],
      "metadata": {
        "id": "F_FELhD1Hep8"
      },
      "execution_count": 76,
      "outputs": []
    },
    {
      "cell_type": "markdown",
      "source": [
        "i. Explica tus resultados, que método se aproxima mejor, ¿por qué?, ¿qué porcentajes de entrenamiento y evaluación usaste? ¿Que error tienes?, ¿es bueno?, ¿Cómo lo sabes?\n",
        "Agrega las conclusiones"
      ],
      "metadata": {
        "id": "Rghn6Sj635lC"
      }
    },
    {
      "cell_type": "markdown",
      "source": [
        "En base al MAE, considero que el mejor modelo fue el de regresión múltiple polinomial, ya que el error está en un rango de 230,000 a 240,000 USD, el cual considerando que de la mediana al tercer cuartil el precio de las casas va de 450,000 a 645,000 USD, no sería un error aceptable, sin embargo, los demás modelos tienen un error aún más alto por alrededor de 10,000 USD."
      ],
      "metadata": {
        "id": "bNVb9EG2ECTp"
      }
    }
  ]
}